{
 "cells": [
  {
   "cell_type": "markdown",
   "metadata": {},
   "source": [
    "## Oppgave 1 \n",
    "\n",
    "Hvis nåverdien av en betaling på 1000 kr om tre år er 800 kr, hva er da kalkulasjonsrenten?"
   ]
  },
  {
   "cell_type": "code",
   "execution_count": 4,
   "metadata": {},
   "outputs": [
    {
     "name": "stdout",
     "output_type": "stream",
     "text": [
      "7.72\n"
     ]
    }
   ],
   "source": [
    "import numpy as np\n",
    "import sympy as sp\n",
    "\n",
    "r = sp.symbols('r')\n",
    "\n",
    "eq1 = 1000 / (1 + r)**3 - 800\n",
    "\n",
    "x = [solution.evalf() for solution in sp.solve(eq1)]\n",
    "print(f\"{x[0]*100:.2f}\")"
   ]
  },
  {
   "cell_type": "markdown",
   "metadata": {},
   "source": [
    "## Oppgave 2\n",
    "\n",
    "Gå ut fra definisjon av egenpriselastisitet som gir ikke-negative tall for normal etterspørsel.\n",
    "\n",
    "Hvilken mengde vil maksimere inntektene gitt at $\\varepsilon=230 / Q^{2}$, der $\\varepsilon$ er egenpriselastisitet og $Q$ er mengden?"
   ]
  },
  {
   "cell_type": "code",
   "execution_count": 12,
   "metadata": {},
   "outputs": [
    {
     "data": {
      "text/plain": [
       "[-sqrt(230), sqrt(230)]"
      ]
     },
     "metadata": {},
     "output_type": "display_data"
    },
    {
     "data": {
      "text/latex": [
       "$\\displaystyle 15.1657508881031$"
      ],
      "text/plain": [
       "15.1657508881031"
      ]
     },
     "metadata": {},
     "output_type": "display_data"
    }
   ],
   "source": [
    "Q = sp.symbols('Q')\n",
    "\n",
    "E_p = 230/Q**2\n",
    "eq2 = 230/Q**2 - 1\n",
    "\n",
    "x2 = sp.solve(eq2)\n",
    "display(x2)\n",
    "\n",
    "Q_2 = x2[1].evalf()\n",
    "display(Q_2)"
   ]
  },
  {
   "cell_type": "markdown",
   "metadata": {},
   "source": [
    "## Oppgave 3\n",
    "\n",
    "Den indirekte etterspørselsfunksjonen i et marked er $P(Q)=200-1,5 Q$ og marginalkostnaden er $\\mathrm{MC}(\\mathrm{Q})=60+\\mathrm{Q}$, der $\\mathrm{P}$ er prisen, MC er marginalkostnaden og $\\mathrm{Q}$ er mengden. Hva er det samfunnsøkonomiske dødvektstapet hvis prisen er 150."
   ]
  },
  {
   "cell_type": "code",
   "execution_count": 17,
   "metadata": {},
   "outputs": [
    {
     "data": {
      "text/latex": [
       "$\\displaystyle 33.3333333333333$"
      ],
      "text/plain": [
       "33.3333333333333"
      ]
     },
     "metadata": {},
     "output_type": "display_data"
    },
    {
     "data": {
      "text/latex": [
       "$\\displaystyle 56.0$"
      ],
      "text/plain": [
       "56.0000000000000"
      ]
     },
     "metadata": {},
     "output_type": "display_data"
    },
    {
     "data": {
      "text/latex": [
       "$\\displaystyle 642.222222222222$"
      ],
      "text/plain": [
       "642.222222222222"
      ]
     },
     "metadata": {},
     "output_type": "display_data"
    }
   ],
   "source": [
    "Q = sp.symbols('Q') # Quantity\n",
    "P = 200 - 1.5*Q     # Price\n",
    "TR = Q * P          # Total Revenue\n",
    "MR = TR.diff(Q)     # Marginal Revenue\n",
    "                    # dTR/dQ\n",
    "                    # Endring i omseting ved endring i mengde\n",
    "\n",
    "MC = 60 + Q         # Marginal Cost\n",
    "                    # dC/dQ\n",
    "                    # Ending i kostnader ved endring i mengde\n",
    "\n",
    "# Profit maximering i et monopol er nå MR = MC \n",
    "# Profit maximerende mengde `Q_monopol`\n",
    "#Q_monopol = sp.solve(MR - MC, Q)[0]\n",
    "Q_monopol = sp.solve(P - 150, Q)[0]\n",
    "display(Q_monopol)\n",
    "\n",
    "# Profit maximering i et fritt marked er nå P = MC\n",
    "# Profit maximerende mengde `Q_konkurranse`\n",
    "Q_konkurranse = sp.solve(P - MC, Q)[0]\n",
    "display(Q_konkurranse)\n",
    "\n",
    "# Calculate DWL\n",
    "# Deadweight Loss (DWL): Calculate as the area between the demand curve and MC from Q_monopol to Q_konkurranse\n",
    "DWL = sp.integrate(P - MC, (Q, Q_monopol, Q_konkurranse))\n",
    "display(DWL)"
   ]
  },
  {
   "cell_type": "markdown",
   "metadata": {},
   "source": [
    "## Oppgave 4\n",
    "\n",
    "Selskapet \"Bing \\& Bong\" har tre produkter i sortimentet A, B og C. Salgsvolum (stykk), pris og direkte kostnader per stykk (kr/stykk) det siste året for de tre produktene er gitt i tabellen:\n",
    "\n",
    "| Produkt | A | B | C |\n",
    "| :--- | :--- | :--- | :--- |\n",
    "| Salgsvolum (stykk) | 3000 | 3000 | 3000 |\n",
    "| Salgspris (kr/stykk) | 8000 | 9000 | 7000 |\n",
    "| Direkte material (kr/stykk) | 1500 | 1800 | 1400 |\n",
    "| Direkte lønn (kr/stykk) | 1600 | 1700 | 1400 |\n",
    "| Øvrige direkte tilvirkningskostnader (kr/stykk) | 200 | 100 | 200 |\n",
    "\n",
    "Tilleggssatser basert på fjorårets indirekte kostnader\n",
    "\n",
    "- Indirekte faste kostnader materialavd. $\\left(\\mathrm{MO}_{\\mathrm{F}}\\right)$ : $27 \\%$\n",
    "- Indirekte faste kostnader produksjonsavd. $\\left(\\mathrm{TO}_{\\mathrm{F}}\\right)$ : $157 \\%$\n",
    "- Indirekte variable kostnader produksjonsavd. (TOv) : 28\\%\n",
    "- Indirekte faste sals- og adm. kostnader $\\left(\\mathrm{AFFO}_{\\mathrm{F}}\\right)$ : $15 \\%$\n",
    "\n",
    "Hva er fortjeneste per stykk for produkt A, det vil si salgspris minus selvkostnad."
   ]
  },
  {
   "cell_type": "code",
   "execution_count": 18,
   "metadata": {},
   "outputs": [
    {
     "name": "stdout",
     "output_type": "stream",
     "text": [
      "335\n"
     ]
    }
   ],
   "source": [
    "Salgsvolum_stykk                                = np.array([3000, 3000, 3000,]) \n",
    "Salgspris_krStykk                               = np.array([8000, 9000, 7000,]) \n",
    "Direkte_material_krStykk                        = np.array([1500, 1800, 1400,]) \n",
    "Direkte_lønn_krStykk                            = np.array([1600, 1700, 1400,]) \n",
    "Øvrige_direkte_tilvirkningskostnader_krStykk    = np.array([200, 100, 200,]) \n",
    "#Salgsprovisjon_krStykk                          = np.array([1000, 1000, 1100,])\n",
    "\n",
    "MO_F = Direkte_material_krStykk * 0.27\n",
    "TO_F = Direkte_lønn_krStykk * 1.57\n",
    "TO_V = Direkte_lønn_krStykk * 0.28\n",
    "\n",
    "tilvirkningskostander = np.vstack((\n",
    "    Direkte_material_krStykk,\n",
    "    MO_F,\n",
    "\n",
    "    Direkte_lønn_krStykk,\n",
    "    TO_F,\n",
    "    TO_V,\n",
    "\n",
    "    Øvrige_direkte_tilvirkningskostnader_krStykk\n",
    "))\n",
    "\n",
    "tilvirkningskostanderSum = np.sum(tilvirkningskostander, axis=0)\n",
    "\n",
    "AFFO_F = tilvirkningskostanderSum * 0.15\n",
    "\n",
    "selvkostnaden = np.vstack((\n",
    "    tilvirkningskostanderSum,\n",
    "\n",
    "    #Salgsprovisjon_krStykk,\n",
    "    AFFO_F\n",
    "))\n",
    "\n",
    "selvkostnadenSum = np.sum(selvkostnaden, axis=0)\n",
    "fortjeneste = Salgspris_krStykk - selvkostnadenSum\n",
    "print(f\"{fortjeneste[0]:.0f}\")"
   ]
  }
 ],
 "metadata": {
  "kernelspec": {
   "display_name": "Python 3",
   "language": "python",
   "name": "python3"
  },
  "language_info": {
   "codemirror_mode": {
    "name": "ipython",
    "version": 3
   },
   "file_extension": ".py",
   "mimetype": "text/x-python",
   "name": "python",
   "nbconvert_exporter": "python",
   "pygments_lexer": "ipython3",
   "version": "3.11.7"
  }
 },
 "nbformat": 4,
 "nbformat_minor": 2
}
