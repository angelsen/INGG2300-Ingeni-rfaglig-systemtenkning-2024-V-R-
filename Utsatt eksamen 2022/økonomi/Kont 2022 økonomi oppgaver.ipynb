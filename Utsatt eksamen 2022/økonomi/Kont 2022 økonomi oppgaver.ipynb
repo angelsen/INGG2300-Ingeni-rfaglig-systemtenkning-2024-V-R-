{
 "cells": [
  {
   "cell_type": "markdown",
   "metadata": {},
   "source": [
    "## Oppgave 1 \n",
    "\n",
    "Hvis nåverdien av en betaling på 1000 kr om tre år er 800 kr, hva er da kalkulasjonsrenten?"
   ]
  },
  {
   "cell_type": "code",
   "execution_count": 4,
   "metadata": {},
   "outputs": [
    {
     "name": "stdout",
     "output_type": "stream",
     "text": [
      "7.72\n"
     ]
    }
   ],
   "source": [
    "import numpy as np\n",
    "import sympy as sp\n",
    "\n",
    "r = sp.symbols('r')\n",
    "\n",
    "eq1 = 1000 / (1 + r)**3 - 800\n",
    "\n",
    "x = [solution.evalf() for solution in sp.solve(eq1)]\n",
    "print(f\"{x[0]*100:.2f}\")"
   ]
  },
  {
   "cell_type": "markdown",
   "metadata": {},
   "source": [
    "## Oppgave 2\n",
    "\n",
    "Gå ut fra definisjon av egenpriselastisitet som gir ikke-negative tall for normal etterspørsel.\n",
    "\n",
    "Hvilken mengde vil maksimere inntektene gitt at $\\varepsilon=230 / Q^{2}$, der $\\varepsilon$ er egenpriselastisitet og $Q$ er mengden?"
   ]
  },
  {
   "cell_type": "code",
   "execution_count": 12,
   "metadata": {},
   "outputs": [
    {
     "data": {
      "text/plain": [
       "[-sqrt(230), sqrt(230)]"
      ]
     },
     "metadata": {},
     "output_type": "display_data"
    },
    {
     "data": {
      "text/latex": [
       "$\\displaystyle 15.1657508881031$"
      ],
      "text/plain": [
       "15.1657508881031"
      ]
     },
     "metadata": {},
     "output_type": "display_data"
    }
   ],
   "source": [
    "Q = sp.symbols('Q')\n",
    "\n",
    "E_p = 230/Q**2\n",
    "eq2 = 230/Q**2 - 1\n",
    "\n",
    "x2 = sp.solve(eq2)\n",
    "display(x2)\n",
    "\n",
    "Q_2 = x2[1].evalf()\n",
    "display(Q_2)"
   ]
  },
  {
   "cell_type": "markdown",
   "metadata": {},
   "source": [
    "## Oppgave 3\n",
    "\n",
    "Den indirekte etterspørselsfunksjonen i et marked er $P(Q)=200-1,5 Q$ og marginalkostnaden er $\\mathrm{MC}(\\mathrm{Q})=60+\\mathrm{Q}$, der $\\mathrm{P}$ er prisen, MC er marginalkostnaden og $\\mathrm{Q}$ er mengden. Hva er det samfunnsøkonomiske dødvektstapet hvis prisen er 150."
   ]
  },
  {
   "cell_type": "code",
   "execution_count": 17,
   "metadata": {},
   "outputs": [
    {
     "data": {
      "text/latex": [
       "$\\displaystyle 33.3333333333333$"
      ],
      "text/plain": [
       "33.3333333333333"
      ]
     },
     "metadata": {},
     "output_type": "display_data"
    },
    {
     "data": {
      "text/latex": [
       "$\\displaystyle 56.0$"
      ],
      "text/plain": [
       "56.0000000000000"
      ]
     },
     "metadata": {},
     "output_type": "display_data"
    },
    {
     "data": {
      "text/latex": [
       "$\\displaystyle 642.222222222222$"
      ],
      "text/plain": [
       "642.222222222222"
      ]
     },
     "metadata": {},
     "output_type": "display_data"
    }
   ],
   "source": [
    "Q = sp.symbols('Q') # Quantity\n",
    "P = 200 - 1.5*Q     # Price\n",
    "TR = Q * P          # Total Revenue\n",
    "MR = TR.diff(Q)     # Marginal Revenue\n",
    "                    # dTR/dQ\n",
    "                    # Endring i omseting ved endring i mengde\n",
    "\n",
    "MC = 60 + Q         # Marginal Cost\n",
    "                    # dC/dQ\n",
    "                    # Ending i kostnader ved endring i mengde\n",
    "\n",
    "# Profit maximering i et monopol er nå MR = MC \n",
    "# Profit maximerende mengde `Q_monopol`\n",
    "#Q_monopol = sp.solve(MR - MC, Q)[0]\n",
    "Q_monopol = sp.solve(P - 150, Q)[0]\n",
    "display(Q_monopol)\n",
    "\n",
    "# Profit maximering i et fritt marked er nå P = MC\n",
    "# Profit maximerende mengde `Q_konkurranse`\n",
    "Q_konkurranse = sp.solve(P - MC, Q)[0]\n",
    "display(Q_konkurranse)\n",
    "\n",
    "# Calculate DWL\n",
    "# Deadweight Loss (DWL): Calculate as the area between the demand curve and MC from Q_monopol to Q_konkurranse\n",
    "DWL = sp.integrate(P - MC, (Q, Q_monopol, Q_konkurranse))\n",
    "display(DWL)"
   ]
  },
  {
   "cell_type": "markdown",
   "metadata": {},
   "source": [
    "## Oppgave 4\n",
    "\n",
    "Selskapet \"Bing \\& Bong\" har tre produkter i sortimentet A, B og C. Salgsvolum (stykk), pris og direkte kostnader per stykk (kr/stykk) det siste året for de tre produktene er gitt i tabellen:\n",
    "\n",
    "| Produkt | A | B | C |\n",
    "| :--- | :--- | :--- | :--- |\n",
    "| Salgsvolum (stykk) | 3000 | 3000 | 3000 |\n",
    "| Salgspris (kr/stykk) | 8000 | 9000 | 7000 |\n",
    "| Direkte material (kr/stykk) | 1500 | 1800 | 1400 |\n",
    "| Direkte lønn (kr/stykk) | 1600 | 1700 | 1400 |\n",
    "| Øvrige direkte tilvirkningskostnader (kr/stykk) | 200 | 100 | 200 |\n",
    "\n",
    "Tilleggssatser basert på fjorårets indirekte kostnader\n",
    "\n",
    "- Indirekte faste kostnader materialavd. $\\left(\\mathrm{MO}_{\\mathrm{F}}\\right)$ : $27 \\%$\n",
    "- Indirekte faste kostnader produksjonsavd. $\\left(\\mathrm{TO}_{\\mathrm{F}}\\right)$ : $157 \\%$\n",
    "- Indirekte variable kostnader produksjonsavd. (TOv) : 28\\%\n",
    "- Indirekte faste sals- og adm. kostnader $\\left(\\mathrm{AFFO}_{\\mathrm{F}}\\right)$ : $15 \\%$\n",
    "\n",
    "Hva er fortjeneste per stykk for produkt A, det vil si salgspris minus selvkostnad."
   ]
  },
  {
   "cell_type": "code",
   "execution_count": 18,
   "metadata": {},
   "outputs": [
    {
     "name": "stdout",
     "output_type": "stream",
     "text": [
      "335\n"
     ]
    }
   ],
   "source": [
    "Salgsvolum_stykk                                = np.array([3000, 3000, 3000,]) \n",
    "Salgspris_krStykk                               = np.array([8000, 9000, 7000,]) \n",
    "Direkte_material_krStykk                        = np.array([1500, 1800, 1400,]) \n",
    "Direkte_lønn_krStykk                            = np.array([1600, 1700, 1400,]) \n",
    "Øvrige_direkte_tilvirkningskostnader_krStykk    = np.array([200, 100, 200,]) \n",
    "#Salgsprovisjon_krStykk                          = np.array([1000, 1000, 1100,])\n",
    "\n",
    "MO_F = Direkte_material_krStykk * 0.27\n",
    "TO_F = Direkte_lønn_krStykk * 1.57\n",
    "TO_V = Direkte_lønn_krStykk * 0.28\n",
    "\n",
    "tilvirkningskostander = np.vstack((\n",
    "    Direkte_material_krStykk,\n",
    "    MO_F,\n",
    "\n",
    "    Direkte_lønn_krStykk,\n",
    "    TO_F,\n",
    "    TO_V,\n",
    "\n",
    "    Øvrige_direkte_tilvirkningskostnader_krStykk\n",
    "))\n",
    "\n",
    "tilvirkningskostanderSum = np.sum(tilvirkningskostander, axis=0)\n",
    "\n",
    "AFFO_F = tilvirkningskostanderSum * 0.15\n",
    "\n",
    "selvkostnaden = np.vstack((\n",
    "    tilvirkningskostanderSum,\n",
    "\n",
    "    #Salgsprovisjon_krStykk,\n",
    "    AFFO_F\n",
    "))\n",
    "\n",
    "selvkostnadenSum = np.sum(selvkostnaden, axis=0)\n",
    "fortjeneste = Salgspris_krStykk - selvkostnadenSum\n",
    "print(f\"{fortjeneste[0]:.0f}\")"
   ]
  },
  {
   "cell_type": "markdown",
   "metadata": {},
   "source": [
    "## Oppgave 5 (FEIL, fix)\n",
    "\n",
    "Hvis de faste kostnadene er 100000 kroner og marginalkostnaden kan uttrykkes som $\\mathrm{MC}(\\mathrm{Q})=1000+1,5 \\mathrm{Q}^{1,5}$ der $Q$ er mengden og $M C$ er marginalkostnaden i kroner.\n",
    "\n",
    "Hvilken mengde vil da gi den laveste gjennomsnittskostnaden per enhet."
   ]
  },
  {
   "cell_type": "code",
   "execution_count": 23,
   "metadata": {},
   "outputs": [
    {
     "name": "stdout",
     "output_type": "stream",
     "text": [
      "259.486672747048\n"
     ]
    }
   ],
   "source": [
    "Q = sp.symbols('Q')\n",
    "\n",
    "FC = 100000\n",
    "MC = 1000 + 1.5*Q**2\n",
    "\n",
    "#MC = dAC/dQ\n",
    "\n",
    "TC = (FC + MC)/Q\n",
    "\n",
    "x_5 = sp.solve(TC.diff(Q))\n",
    "print(x_5[1])"
   ]
  },
  {
   "cell_type": "markdown",
   "metadata": {},
   "source": [
    "## Oppgave 6\n",
    "\n",
    "En bedrift i et frikonkurransemarked har marginalkostnader gitt ved $M C(Q)=50+3 Q$ der $Q$ er mengden. Hvis prisen i markedet er 200, hva blir dekningsbidraget ved optimal tilpasning for bedriften?"
   ]
  },
  {
   "cell_type": "code",
   "execution_count": 59,
   "metadata": {},
   "outputs": [
    {
     "data": {
      "text/latex": [
       "$\\displaystyle 50$"
      ],
      "text/plain": [
       "50"
      ]
     },
     "metadata": {},
     "output_type": "display_data"
    },
    {
     "data": {
      "text/latex": [
       "$\\displaystyle 3750$"
      ],
      "text/plain": [
       "3750"
      ]
     },
     "metadata": {},
     "output_type": "display_data"
    }
   ],
   "source": [
    "Q = sp.symbols('Q') # Quantity\n",
    "P = 200             # Price\n",
    "TR = Q * P          # Total Revenue\n",
    "MR = TR.diff(Q)     # Marginal Revenue\n",
    "                    # dTR/dQ\n",
    "                    # Endring i omseting ved endring i mengde\n",
    "\n",
    "MC = 50 + 3*Q       # Marginal Cost\n",
    "                    # dC/dQ\n",
    "                    # Ending i kostnader ved endring i mengde\n",
    "\n",
    "# Profit maximering i et monopol er nå MR = MC \n",
    "# Profit maximerende mengde `Q_monopol`\n",
    "Q_monopol = sp.solve(MR - MC, Q)[0]\n",
    "display(Q_monopol)\n",
    "\n",
    "TC = sp.integrate(MC, (Q, 0, Q_monopol))\n",
    "\n",
    "DB = P * Q_monopol - TC\n",
    "\n",
    "display(DB)"
   ]
  },
  {
   "cell_type": "markdown",
   "metadata": {},
   "source": [
    "## Oppgave 7\n",
    "\n",
    "Inflasjonen har de siste par årene vært 2 \\% per år. Samtidig har prisen for paellapanner økt med 3\\% per år (nominelt) til dagens pris 200 kr/enhet. Man forventer at inflasjonen og prisøkningen på paellapanner forblir den samme.\n",
    "\n",
    "Hva er nåverdien av å selge 1000 paellapanner årlig de neste ti årene (år 1 til 10) hvis den nominelle kalkulasjonsrenten er $10 \\%$.\n",
    "\n",
    "Svar i millioner kroner."
   ]
  },
  {
   "cell_type": "code",
   "execution_count": 57,
   "metadata": {},
   "outputs": [
    {
     "name": "stdout",
     "output_type": "stream",
     "text": [
      "1.418\n"
     ]
    }
   ],
   "source": [
    "def nnv(KS, r, t):\n",
    "    return KS/(1+r)**t\n",
    "\n",
    "paelapane_år0 = 200\n",
    "\n",
    "KS = [nnv(((paelapane_år0)*(1.03)**t)*1000/1000000, 0.1, t) for t in range(1, 11)] ## OBS range fra 1-11\n",
    "\n",
    "print(f\"{sum(KS):.3f}\")"
   ]
  },
  {
   "cell_type": "markdown",
   "metadata": {},
   "source": [
    "## Oppgave 8\n",
    "\n",
    "Kontantstrømmene for en investering med økonomisk levetid på 5 år er som følger: $k_{0}=$ $-10000, k_{1}=k_{2}=k_{3}=k_{4}=3000, k_{5}=k_{1}+1000=4000$. Denne investeringen kan gjentas år 5 , $10, \\ldots$ osv.\n",
    "\n",
    "Hva er netto nåverdi av den uendelige kontantstrømmen som følger hvis kalkulasjonsrenten er $12 \\%$ per år."
   ]
  },
  {
   "cell_type": "code",
   "execution_count": 40,
   "metadata": {},
   "outputs": [
    {
     "name": "stdout",
     "output_type": "stream",
     "text": [
      "1381.7554627536122\n",
      "3194.2701044213277\n"
     ]
    }
   ],
   "source": [
    "def nnv(KS, r, t):\n",
    "    return KS/(1+r)**t\n",
    "\n",
    "KS = [-10000, 3000, 3000, 3000, 3000, 4000]\n",
    "\n",
    "NNV = [nnv(ks, 0.12, t) for t, ks in enumerate(KS)] \n",
    "\n",
    "NNV_periode = sum(NNV)\n",
    "print(NNV_periode)\n",
    "\n",
    "R = nnv(1, 0.12, 5)\n",
    "\n",
    "NNV_uendelig = NNV_periode/(1 - R)\n",
    "print(NNV_uendelig)"
   ]
  },
  {
   "cell_type": "markdown",
   "metadata": {},
   "source": [
    "## Oppgave 9\n",
    "\n",
    "En bedrift med et nyutviklet produkt mener at de kan selge 100000 enheter av dette produktet per år for $100 \\mathrm{kr} / \\mathrm{stykk}$. Utbetalingene per stykk for materiell, lønn etc. beregnes til $50 \\mathrm{kr} / \\mathrm{stykk}$ uavhengige av mengden. Investeringskostnaden er $1000000 \\mathrm{kr}$, restverdien er 0 og den økonomisk levetid er 5 år.\n",
    "\n",
    "Det er en usikkerhet knyttet til inngangsparametere og selskapet ønsker derfor å vite det laveste salgsvolumet der investeringen ikke er ulønnsom hvis kalkulasjonsrenten er 14\\%."
   ]
  },
  {
   "cell_type": "code",
   "execution_count": 46,
   "metadata": {},
   "outputs": [
    {
     "name": "stdout",
     "output_type": "stream",
     "text": [
      "5825.67\n"
     ]
    }
   ],
   "source": [
    "Q = sp.symbols('Q')\n",
    "TR = 100 * Q\n",
    "VC = 50 * Q\n",
    "\n",
    "invest = 1000000\n",
    "\n",
    "\n",
    "KS = TR - VC\n",
    "\n",
    "PV = KS * (1 - (1+0.14)**(-5))/0.14\n",
    "\n",
    "eq9 = PV - invest\n",
    "\n",
    "q_ = sp.solve(eq9)\n",
    "print(f\"{q_[0]:.2f}\")"
   ]
  },
  {
   "cell_type": "markdown",
   "metadata": {},
   "source": [
    "# Oppgave 10\n",
    "\n",
    "Kontantstrømmene for fire investeringer med økonomisk levetid på henholdsvis 4,5,5 og 6 år er som følger:\n",
    "\n",
    "|  | A | B | C | D |\n",
    "| :--- | :---: | :---: | :---: | :---: |\n",
    "| $k_{0}$ | -2400 | -2400 | -2400 | -2400 |\n",
    "| $k_{1}$ | 750 | 650 | 600 | 550 |\n",
    "| $k_{2}$ | 750 | 650 | 600 | 550 |\n",
    "| $k_{3}$ | 750 | 650 | 700 | 550 |\n",
    "| $k_{4}$ | 1230 | 650 | 700 | 550 |\n",
    "| $k_{5}$ |  | 1000 | 1100 | 550 |\n",
    "| $k_{6}$ |  |  |  | 1000 |\n",
    "\n",
    "Kalkulasjonsrenten for alle investeringene er 10\\%.\n",
    "\n",
    "Hvilken av de fire investeringene er best økonomisk om det er forutsatt at man ikke kan gjenta investeringene?"
   ]
  },
  {
   "cell_type": "code",
   "execution_count": 42,
   "metadata": {},
   "outputs": [
    {
     "name": "stdout",
     "output_type": "stream",
     "text": [
      "305.245543337203\n",
      "281.33386318619534\n",
      "328.3655488013109\n",
      "249.40665322842347\n"
     ]
    }
   ],
   "source": [
    "A = [-2400, 750, 750, 750, 1230]\n",
    "B = [-2400, 650, 650, 650, 650, 1000]\n",
    "C = [-2400, 600, 600, 700, 700, 1100]\n",
    "D = [-2400, 550, 550, 550, 550, 550, 1000]\n",
    "\n",
    "def NNV(n, KS):\n",
    "    return KS / (1.1)**n\n",
    "\n",
    "def calcNNV(list):\n",
    "    total = 0\n",
    "    for n, KS in enumerate(list):\n",
    "        total += NNV(n, KS)\n",
    "    return total\n",
    "\n",
    "investeringer = [A, B, C, D]\n",
    "\n",
    "for investering in investeringer:\n",
    "    print(calcNNV(investering))"
   ]
  }
 ],
 "metadata": {
  "kernelspec": {
   "display_name": "Python 3",
   "language": "python",
   "name": "python3"
  },
  "language_info": {
   "codemirror_mode": {
    "name": "ipython",
    "version": 3
   },
   "file_extension": ".py",
   "mimetype": "text/x-python",
   "name": "python",
   "nbconvert_exporter": "python",
   "pygments_lexer": "ipython3",
   "version": "3.11.7"
  }
 },
 "nbformat": 4,
 "nbformat_minor": 2
}
