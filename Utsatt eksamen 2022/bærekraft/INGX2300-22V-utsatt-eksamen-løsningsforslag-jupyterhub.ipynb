{
 "cells": [
  {
   "cell_type": "markdown",
   "metadata": {},
   "source": [
    "# Oppgave 1"
   ]
  },
  {
   "cell_type": "code",
   "execution_count": 13,
   "metadata": {},
   "outputs": [
    {
     "data": {
      "text/plain": [
       "array([[  98000, -196000,  -14000],\n",
       "       [  -3000,  280000, -140000],\n",
       "       [      0,       0,      25]])"
      ]
     },
     "metadata": {},
     "output_type": "display_data"
    },
    {
     "data": {
      "text/plain": [
       "array([[-14700,      0,  -2800],\n",
       "       [    93,    450,    285],\n",
       "       [  4900,  26800,  15000]])"
      ]
     },
     "metadata": {},
     "output_type": "display_data"
    },
    {
     "data": {
      "text/plain": [
       "array([0.04671533, 0.02050052, 0.04      ])"
      ]
     },
     "metadata": {},
     "output_type": "display_data"
    },
    {
     "data": {
      "text/plain": [
       "array([[-686.71532847,    0.        , -112.        ],\n",
       "       [   4.34452555,    9.22523462,   11.4       ],\n",
       "       [ 228.90510949,  549.41397289,  600.        ]])"
      ]
     },
     "metadata": {},
     "output_type": "display_data"
    },
    {
     "data": {
      "text/plain": [
       "array([-798.71532847,   24.96976017, 1378.31908238])"
      ]
     },
     "metadata": {},
     "output_type": "display_data"
    },
    {
     "data": {
      "text/plain": [
       "24.96976016684046"
      ]
     },
     "metadata": {},
     "output_type": "display_data"
    }
   ],
   "source": [
    "import numpy as np\n",
    "import sympy as sp\n",
    "\n",
    "##strøm = np.array([P1, P2, P3])\n",
    "#strøm = np.array([P1, P2, P3])\n",
    "#stål = np.array([P1, P2, P3])\n",
    "#strøm = np.array([P1, P2, P3])\n",
    "\n",
    "n_21 = 3000\n",
    "n_1 = 98000\n",
    "n_12 = 98000\n",
    "n_2 = 140000\n",
    "n_13 = 14000\n",
    "n_23 = 140000\n",
    "\n",
    "# INN: NEGATIV -> UT: POSITIV\n",
    "#P1= np.array([strøm, stål, vindmøller])\n",
    "P1 = np.array([n_1, -n_21, 0])\n",
    "P2 = np.array([-n_12, n_2, 0])\n",
    "P3 = np.array([-n_13, -n_23, 25])\n",
    "\n",
    "A = np.vstack((\n",
    "    P1,\n",
    "    P2*2,\n",
    "    P3,\n",
    ")).T\n",
    "display(A)\n",
    "\n",
    "w_1 = 14700\n",
    "q_1 = 93\n",
    "p_1 = 4900\n",
    "w_2 = 0\n",
    "q_2 = 225\n",
    "p_2 = 13400\n",
    "w_3 = 2800\n",
    "q_3 = 285\n",
    "p_3= 15000\n",
    "\n",
    "#B1= np.array(['vann', 'NO_x', 'CO_2'])\n",
    "B1 = np.array([-w_1, q_1, p_1])\n",
    "B2 = np.array([-w_2, q_2, p_2])\n",
    "B3 = np.array([-w_3, q_3, p_3])\n",
    "\n",
    "B = np.vstack((\n",
    "    B1,\n",
    "    B2*2,\n",
    "    B3\n",
    ")).T\n",
    "\n",
    "display(B)\n",
    "\n",
    "r = np.array([0, 0, 1])\n",
    "\n",
    "x = np.linalg.solve(A,r)\n",
    "\n",
    "display(x)\n",
    "\n",
    "display(x*B)\n",
    "ressursuttak_gitt_r = np.sum(x*B, axis=1)\n",
    "display(ressursuttak_gitt_r)\n",
    "nox_vindmolle = ressursuttak_gitt_r[1]\n",
    "display(nox_vindmolle)"
   ]
  },
  {
   "cell_type": "markdown",
   "metadata": {},
   "source": [
    "# Oppgave 2"
   ]
  },
  {
   "cell_type": "code",
   "execution_count": 12,
   "metadata": {},
   "outputs": [
    {
     "data": {
      "text/plain": [
       "array([[ 1, -1, -1,  1,  0,  0,  0],\n",
       "       [ 0,  1,  0,  0, -1, -1,  0],\n",
       "       [ 0,  0,  1, -1,  0,  1,  1]])"
      ]
     },
     "metadata": {},
     "output_type": "display_data"
    }
   ],
   "source": [
    "# P= np.array([x01, x12, x13, x31, x20, x23, x03])\n",
    "P1 = np.array([1, -1, -1, 1, 0, 0, 0])\n",
    "P2 = np.array([0, 1, 0, 0, -1, -1, 0])\n",
    "P3 = np.array([0, 0, 1, -1, 0, 1, 1])\n",
    "\n",
    "# M= np.array([x01, x12, x13, x31, x20, x23, x03])\n",
    "M1 = np.array([-0.81, 1, 0, -0.81, 0, 0, 0])\n",
    "M2 = np.array([0, 0, -0.5, 1, 0, -0.5, -0.5])\n",
    "\n",
    "m_ny = (68 * 29)/0.81*0.5\n",
    "M3 = np.array([1, 0, 0, 0, 0, 0, 0])\n",
    "\n",
    "A_bal = np.vstack((\n",
    "    P1,\n",
    "    P2,\n",
    "    P3\n",
    "))\n",
    "display(A_bal)"
   ]
  }
 ],
 "metadata": {
  "kernelspec": {
   "display_name": "Python 3",
   "language": "python",
   "name": "python3"
  },
  "language_info": {
   "codemirror_mode": {
    "name": "ipython",
    "version": 3
   },
   "file_extension": ".py",
   "mimetype": "text/x-python",
   "name": "python",
   "nbconvert_exporter": "python",
   "pygments_lexer": "ipython3",
   "version": "3.11.7"
  }
 },
 "nbformat": 4,
 "nbformat_minor": 2
}
