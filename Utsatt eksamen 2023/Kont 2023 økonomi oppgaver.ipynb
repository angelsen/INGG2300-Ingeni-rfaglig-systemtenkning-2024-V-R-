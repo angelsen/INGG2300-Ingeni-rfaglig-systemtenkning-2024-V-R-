{
 "cells": [
  {
   "cell_type": "markdown",
   "metadata": {},
   "source": [
    "## Oppgave 1 \n",
    "\n",
    "En bedrift har variable kostnader gitt av VC $(\\mathrm{Q})=20 \\cdot \\mathrm{Q}+50 \\cdot \\mathrm{Q}^{0.8}$ kroner, der $\\mathrm{Q}$ er mengden som produseres. De faste kostnadene er på 1500000 kroner per periode. Bedriften produserer 10000 enheter per periode.\n",
    "\n",
    "Hvor stor andel av totalkostnaden er de faste kostnadene ved det produserte volumet?"
   ]
  },
  {
   "cell_type": "code",
   "execution_count": 3,
   "metadata": {},
   "outputs": [
    {
     "name": "stdout",
     "output_type": "stream",
     "text": [
      "0.84\n"
     ]
    }
   ],
   "source": [
    "import numpy as np\n",
    "import sympy as sp\n",
    "\n",
    "Q = sp.symbols('Q')\n",
    "\n",
    "VC = 20*Q + 50*Q**0.8\n",
    "FC = 1500000\n",
    "q = 10000\n",
    "Andel_FC = FC/(VC.subs(Q,q)+FC)\n",
    "\n",
    "print(f\"{Andel_FC:.2f}\")"
   ]
  },
  {
   "cell_type": "markdown",
   "metadata": {},
   "source": [
    "## Oppgave 2\n",
    "\n",
    "Etterspørselen til en monopolbedrift er gitt av P(Q)=200-3Q der P er prisen og Q er mengden.\n",
    "\n",
    "Hva er priselastisiteten ved mengden som maksimerer inntektene?\n",
    "\n",
    "Gå ut fra definisjon av egenpriselastisitet som gir ikke-negative tall for normal etterspørsel.\n",
    "\n",
    "---\n",
    "\n",
    "Price elasticity of demand at any point is calculated using the formula:\n",
    "\n",
    "$$\n",
    "E_p ({\\varepsilon})  = \\left( \\frac{dQ}{dP} \\right) \\times \\left( \\frac{P}{Q} \\right)\n",
    "$$\n",
    "\n",
    "---\n",
    "\n",
    "The connection with total revenue (TR) and marginal revenue (MR) comes when considering revenue maximization. Price elasticity of demand is crucial in determining the behavior of total revenue as price changes, especially since:\n",
    "\n",
    "- When $|E_p ({\\varepsilon}) | > 1$, demand is elastic, and a decrease in price leads to an increase in total revenue.\n",
    "- When $|E_p ({\\varepsilon}) | < 1$, demand is inelastic, and a decrease in price leads to a decrease in total revenue.\n",
    "- When $|E_p ({\\varepsilon}) | = 1$, demand is unit elastic, and total revenue is maximized.\n",
    "\n",
    "---\n",
    "\n",
    "$$\n",
    "MR(Q)=P(Q)\\left(1-\\frac{1}{\\varepsilon}\\right)=0 \\Leftrightarrow \\varepsilon=1\n",
    "$$\n",
    "\n",
    "$$ \n",
    "MR(Q) = \\frac{d(TR)}{dQ}\n",
    "$$\n",
    "\n",
    "---\n",
    "\n",
    "Priselastisiteten ved mengden som maksimerer inntektene? **1**\n",
    "\n",
    "---"
   ]
  },
  {
   "cell_type": "markdown",
   "metadata": {},
   "source": [
    "## Oppgave 3\n",
    "\n",
    "Et selskaps likviditetsgrad 1 oppfyller tommelfingerregelen, mens likviditetsgrad 2 ikke gjør det.\n",
    "\n",
    "$$\n",
    "\\text{Tommelfingerregler:}\n",
    "$$\n",
    "$$\n",
    "\\text{likviditetsgrad 1(Current Ratio) > 2}\n",
    "$$\n",
    "$$\n",
    "\\text{likviditetsgrad 2(Quick Ratio) > 1}\n",
    "$$\n",
    "\n",
    "For å øke likviditeten vurderer de å ta et kortsiktig lån. Hva vil dette resultere i?\n",
    "\n",
    "a) En økning av likviditetsgrad 1 og en reduksjon av likviditetsgrad 2.\n",
    "\n",
    "b) En reduksjon av likviditetsgrad 1 og en Økning av likviditetsgrad 2.\n",
    "\n",
    "**c) En reduksjon av både likviditetsgrad 1 og likviditetsgrad 2.**\n",
    "\n",
    "d) En økning av både likviditetsgrad 1 og likviditetsgrad 2.\n",
    "\n",
    "---\n",
    "\n",
    "1. **Liquidity Ratios**: These ratios measure a company's ability to meet its short-term obligations with its short-term assets. The two common liquidity ratios mentioned here are:\n",
    "\n",
    "    - **Likviditetsgrad 1 (Current Ratio)**: This measures a company's ability to cover its short-term liabilities with its short-term assets. It is calculated as:\n",
    "     $\\text{Current Ratio (Likviditetsgrad 1)} = \\frac{\\text{Current Assets}}{\\text{Current Liabilities}}$\n",
    "     The \"thumb rule\" often suggests that a healthy current ratio is above 2, meaning the company has twice as many current assets as it has current liabilities.\n",
    "\n",
    "    - **Likviditetsgrad 2 (Quick Ratio or Acid-Test Ratio)**: This is a more stringent measure than the current ratio because it excludes inventory from current assets. It is calculated as:\n",
    "     $ \\text{Quick Ratio (Likviditetsgrad 2)} = \\frac{\\text{Current Assets} - \\text{Inventory}}{\\text{Current Liabilities}} $\n",
    "     A common rule of thumb for the quick ratio is above 1, indicating that the company can meet its immediate liabilities without selling inventory.\n",
    "\n",
    "---\n",
    "\n",
    "**Likviditetsgrad 1:** Likviditetsgrad 1 forteller noe om forholdet mellom omløpsmidler og kortsiktig gjeld. Med andre ord måler det bedriftens evne til å dekke sine betalingsforpliktelser etter hvert som disse forfaller.\\\n",
    "Formelen for $\\text{Likviditetsgrad 1} = \\frac{\\text{Omløpsmidler}}{\\text{Kortsiktig gjeld}}$. Likviditetsgrad 1 bør være større enn 2. Omløpsmidler inkluderer Varelager, fordringer, investeringer og kontantbeholdning.\n",
    "\n",
    "**Likviditetsgrad 2:** Likviditetsgrad 2 måler, som likviditetsgrad 1 forholdet mellom omløpsmidler og kortsiktig gjeld. Forskjellen her er at varelageret, som regnes som de minst likvide omløpsmidlene, er trukket fra.\\\n",
    "Formelen for $\\text{Likviditetsgrad 2} = \\frac{\\text{Omløpsmidler - Varelager}}{\\text{Kortsiktig gjeld}}$\n",
    "\n",
    "---\n",
    "\n",
    "$$\\text{Likviditetsgrad 1} = \\frac{\\text{Omløpsmidler}}{\\text{Kortsiktig gjeld}}$$\n",
    "$$\\text{Likviditetsgrad 2} = \\frac{\\text{Omløpsmidler - Varelager}}{\\text{Kortsiktig gjeld}}$$"
   ]
  },
  {
   "cell_type": "markdown",
   "metadata": {},
   "source": [
    "## Oppgave 4\n",
    "\n",
    "Selskapet \"Bing \\& Bong\" har fire produkter i sortimentet A, B, C og D. Prognostisert salgsvolum (stykk), pris (kr/stykk) og direkte kostnader per stykk (kr/stykk) det siste året for de fire produktene er gitt i tabellen:\n",
    "\n",
    "| Produkt | A | B | C | D |\n",
    "| :--- | :---: | :---: | :---: | :---: |\n",
    "| Salgsvolum (stykk) | 8000 | 8000 | 10000 | 10000 |\n",
    "| Salgspris (kr/stykk) | 10000 | 11000 | 8000 | 9000 |\n",
    "| Direkte material (kr/stykk) | 1600 | 1700 | 1200 | 1400 |\n",
    "| Direkte lønn (kr/stykk) | 1500 | 1800 | 1200 | 1500 |\n",
    "| Øvrige direkte tilvirkningskostnader <br> (kr/stykk) | 200 | 100 | 100 | 200 |\n",
    "| Salgsprovisjon (kr/stykk) | 1000 | 1100 | 800 | 900 |\n",
    "\n",
    "Tilleggssatser indirekte kostnader basert på prognosen er\n",
    "\n",
    "- Indirekte faste kostnader materialavd. $\\left(\\mathrm{MO}_{\\mathrm{F}}\\right): 50 \\%$\n",
    "- Indirekte faste kostnader produksjonsavd. $\\left(\\mathrm{TO}_{\\mathrm{F}}\\right): 150 \\%$\n",
    "- Indirekte variable kostnader produksjonsavd. ( $\\mathrm{TO}_{\\mathrm{v}}$ ) : 25\\%\n",
    "- Indirekte faste salgs- og adm. kostnader (S\\&AOF) : $20 \\%$\n",
    "\n",
    "Prognosen for faste kostnader og variable kostnader per stykk viste seg å være riktig, men det sanne salget viste seg å være\n",
    "\n",
    "| Produkt | A | B | C | D |\n",
    "| :--- | :---: | :---: | :---: | :---: |\n",
    "| Salgsvolum (stykk) | 8000 | 8000 | 8000 | 8000 |\n",
    "\n",
    "Hvilket produkt vil se den største endringen i selvkostnad hvis tilleggssatsene er basert på det faktiske salget ( $S J K_{\\text {Salg }}$ ) i stedet for det prognosen ( $S J K_{\\text {Prognos }}$ ), dvs. hvilket produkt har størst verdi på $\\left|S J K_{\\text {Salg }}-S J K_{\\text {Prognos }}\\right|$."
   ]
  },
  {
   "cell_type": "code",
   "execution_count": 70,
   "metadata": {},
   "outputs": [
    {
     "data": {
      "text/plain": [
       "array([[1600., 1700., 1200., 1400.],\n",
       "       [ 800.,  850.,  600.,  700.],\n",
       "       [1500., 1800., 1200., 1500.],\n",
       "       [ 375.,  450.,  300.,  375.],\n",
       "       [2250., 2700., 1800., 2250.],\n",
       "       [ 200.,  100.,  100.,  200.]])"
      ]
     },
     "metadata": {},
     "output_type": "display_data"
    },
    {
     "data": {
      "text/plain": [
       "array([[6725., 7600., 5200., 6425.],\n",
       "       [1345., 1520., 1040., 1285.],\n",
       "       [1000., 1100.,  800.,  900.]])"
      ]
     },
     "metadata": {},
     "output_type": "display_data"
    },
    {
     "data": {
      "text/plain": [
       "array([ 9070., 10220.,  7040.,  8610.])"
      ]
     },
     "metadata": {},
     "output_type": "display_data"
    },
    {
     "data": {
      "text/plain": [
       "array([888.13559322, 943.6440678 , 666.10169492, 777.11864407])"
      ]
     },
     "metadata": {},
     "output_type": "display_data"
    },
    {
     "data": {
      "text/plain": [
       "array([2503.125, 3003.75 , 2002.5  , 2503.125])"
      ]
     },
     "metadata": {},
     "output_type": "display_data"
    },
    {
     "data": {
      "text/plain": [
       "array([[1600.        , 1700.        , 1200.        , 1400.        ],\n",
       "       [ 888.13559322,  943.6440678 ,  666.10169492,  777.11864407],\n",
       "       [1500.        , 1800.        , 1200.        , 1500.        ],\n",
       "       [ 375.        ,  450.        ,  300.        ,  375.        ],\n",
       "       [2503.125     , 3003.75      , 2002.5       , 2503.125     ],\n",
       "       [ 200.        ,  100.        ,  100.        ,  200.        ]])"
      ]
     },
     "metadata": {},
     "output_type": "display_data"
    },
    {
     "data": {
      "text/plain": [
       "0.2114979386165827"
      ]
     },
     "metadata": {},
     "output_type": "display_data"
    },
    {
     "data": {
      "text/plain": [
       "array([[7066.26059322, 7997.3940678 , 5468.60169492, 6755.24364407],\n",
       "       [1494.49954919, 1691.43235964, 1156.59798559, 1428.72010557],\n",
       "       [1000.        , 1100.        ,  800.        ,  900.        ]])"
      ]
     },
     "metadata": {},
     "output_type": "display_data"
    },
    {
     "data": {
      "text/plain": [
       "array([ 9560.76014241, 10788.82642744,  7425.1996805 ,  9083.96374964])"
      ]
     },
     "metadata": {},
     "output_type": "display_data"
    },
    {
     "data": {
      "text/plain": [
       "array([490.76014241, 568.82642744, 385.1996805 , 473.96374964])"
      ]
     },
     "metadata": {},
     "output_type": "display_data"
    }
   ],
   "source": [
    "Salgsvolum_prognose                             = np.array([8000, 8000, 10000, 10000,])\n",
    "Salgspris_krStykk                               = np.array([10000, 11000, 8000, 9000,])\n",
    "Direkte_material_krStykk                        = np.array([1600, 1700, 1200, 1400,]) \n",
    "Direkte_lønn_krStykk                            = np.array([1500, 1800, 1200, 1500,])\n",
    "Øvrige_direkte_tilvirkningskostnader_krStykk    = np.array([200, 100, 100, 200,])\n",
    "Salgsprovisjon_krStykk                          = np.array([1000, 1100, 800, 900,])\n",
    "\n",
    "MO_F    = Direkte_material_krStykk * 0.5\n",
    "TO_F    = Direkte_lønn_krStykk * 1.5\n",
    "TO_V    = Direkte_lønn_krStykk * 0.25\n",
    "\n",
    "kostnader_prognose = np.vstack((\n",
    "    # Materialavd.\n",
    "    Direkte_material_krStykk,\n",
    "    MO_F,\n",
    "\n",
    "    # Porduksjonsavd.\n",
    "    Direkte_lønn_krStykk,\n",
    "    TO_V,\n",
    "    TO_F,\n",
    "    \n",
    "    ## \n",
    "    Øvrige_direkte_tilvirkningskostnader_krStykk,\n",
    "))\n",
    "display(kostnader_prognose)\n",
    "TK_prognose = np.sum(kostnader_prognose, axis=0)\n",
    "\n",
    "SAO_F_prognose = 0.2*TK_prognose.sum()*TK_prognose/TK_prognose.sum()\n",
    "\n",
    "SJK_prognose = np.vstack((\n",
    "    TK_prognose,\n",
    "    SAO_F_prognose,\n",
    "    Salgsprovisjon_krStykk,\n",
    "))\n",
    "\n",
    "display(SJK_prognose)\n",
    "display(np.sum(SJK_prognose,axis=0))\n",
    "\n",
    "Salgsvolum_salg = np.array([8000, 8000, 8000, 8000,])\n",
    "\n",
    "# MO_F_salg\n",
    "MO_F_total = (Salgsvolum_prognose * MO_F).sum()\n",
    "Direkte_material_total = (Direkte_material_krStykk * Salgsvolum_salg).sum()\n",
    "MO_F_salg = Direkte_material_krStykk * MO_F_total/Direkte_material_total \n",
    "display(MO_F_salg)\n",
    "\n",
    "# TO_F_salg\n",
    "TO_F_total = (Salgsvolum_prognose * TO_F).sum()\n",
    "Direkte_lønn_total = (Direkte_lønn_krStykk * Salgsvolum_salg).sum()\n",
    "TO_F_salg = Direkte_lønn_krStykk * TO_F_total/Direkte_lønn_total \n",
    "display(TO_F_salg)\n",
    "\n",
    "kostnader_salg = np.vstack((\n",
    "    # Materialavd.\n",
    "    Direkte_material_krStykk,\n",
    "    MO_F_salg,\n",
    "\n",
    "    # Porduksjonsavd.\n",
    "    Direkte_lønn_krStykk,\n",
    "    TO_V,\n",
    "    TO_F_salg,\n",
    "    \n",
    "    ## \n",
    "    Øvrige_direkte_tilvirkningskostnader_krStykk,\n",
    "))\n",
    "display(kostnader_salg)\n",
    "TK_salg = np.sum(kostnader_salg, axis=0)\n",
    "\n",
    "# TO_F_salg\n",
    "SAO_F_total = (Salgsvolum_prognose * SAO_F_prognose).sum()\n",
    "TK_total = (TK_salg * Salgsvolum_salg).sum()\n",
    "SAO_F_andel = SAO_F_total/TK_total \n",
    "display(SAO_F_andel)\n",
    "SAO_F_salg = SAO_F_andel*TK_salg.sum()*TK_salg/TK_salg.sum()\n",
    "\n",
    "SJK_salg = np.vstack((\n",
    "    TK_salg,\n",
    "    SAO_F_salg,\n",
    "    Salgsprovisjon_krStykk,\n",
    "))\n",
    "\n",
    "display(SJK_salg)\n",
    "display(np.sum(SJK_salg,axis=0))\n",
    "\n",
    "display(np.sum(SJK_salg,axis=0)-np.sum(SJK_prognose,axis=0))"
   ]
  },
  {
   "cell_type": "markdown",
   "metadata": {},
   "source": [
    "## Oppgave 5\n",
    "\n",
    "Hvis de faste kostnadene er 100000 kroner og den variable kostnaden kan uttrykkes som $\\mathrm{VC}(\\mathrm{Q})=5 \\mathrm{Q}$ kroner der $\\mathrm{Q}$ er mengden.\n",
    "\n",
    "Hvilken pris per enhet (i kroner) må man da sette for å få en sikkerhetsmargin på $10 \\%$ ved mengden 10000 ?\n",
    "\n",
    "---\n",
    "\n",
    "$Q_{min} = (1 - sikkerhetsmargin) \\times Q_{mengde}$\n",
    "\n",
    "$TP(Q) = Q_{min} \\times (\\text{pris} - \\frac{dVC}{dQ}) - FC = 0$\n"
   ]
  },
  {
   "cell_type": "code",
   "execution_count": 78,
   "metadata": {},
   "outputs": [
    {
     "name": "stdout",
     "output_type": "stream",
     "text": [
      "16.1111111111111\n"
     ]
    }
   ],
   "source": [
    "Q, p = sp.symbols('Q p')\n",
    "\n",
    "FC = 100000\n",
    "VC = 5*Q\n",
    "\n",
    "Q_mengde = 10000\n",
    "Q_min = (1-0.1)*Q_mengde\n",
    "\n",
    "TP = Q_min * (p - VC.diff(Q)) - FC\n",
    "pris = sp.solve(TP)[0]\n",
    "print(pris)"
   ]
  },
  {
   "cell_type": "markdown",
   "metadata": {},
   "source": [
    "## Oppgave 6\n",
    "\n",
    "En bedrift har totalkapitalrentabilitet før skatt på 15\\%. Renten på gjeld er 4.5\\% og gjeldsgraden er $70 \\%$.\n",
    "\n",
    "Hva blir bedriftens egenkapitalrentabilitet før skatt?"
   ]
  },
  {
   "cell_type": "code",
   "execution_count": 79,
   "metadata": {},
   "outputs": [
    {
     "name": "stdout",
     "output_type": "stream",
     "text": [
      "0.22349999999999998\n"
     ]
    }
   ],
   "source": [
    "totalkapitalrentabilitet = 0.15\n",
    "gjeldsrente = 0.045\n",
    "gjeldsgraden = 0.7\n",
    "\n",
    "egenkapitalrentabilitet = totalkapitalrentabilitet + (totalkapitalrentabilitet-gjeldsrente) * gjeldsgraden\n",
    "print(egenkapitalrentabilitet)"
   ]
  },
  {
   "cell_type": "markdown",
   "metadata": {},
   "source": [
    "## Oppgave 7\n",
    "\n",
    "Hvis nåverdien av en betaling på 2000 kroner om fire år er 1600 kroner og inflasjonen er 4\\%, hva er da den nominelle kalkulasjonsrenten?"
   ]
  },
  {
   "cell_type": "code",
   "execution_count": 86,
   "metadata": {},
   "outputs": [
    {
     "name": "stdout",
     "output_type": "stream",
     "text": [
      "0.0573712634405641\n",
      "-1.0 - 1.05737126344056*I\n",
      "-1.0 + 1.05737126344056*I\n",
      "-2.05737126344056\n"
     ]
    },
    {
     "data": {
      "text/latex": [
       "$\\displaystyle 0.0573712634405641$"
      ],
      "text/plain": [
       "0.0573712634405641"
      ]
     },
     "metadata": {},
     "output_type": "display_data"
    }
   ],
   "source": [
    "r = sp.symbols('r')\n",
    "Eq7 = 1600 - 2000/(1+r)**4\n",
    "solutions_7 = sp.solve(Eq7)\n",
    "\n",
    "for solution in solutions_7:\n",
    "    print(solution.evalf())\n",
    "display(solutions_7[0].evalf())"
   ]
  },
  {
   "cell_type": "markdown",
   "metadata": {},
   "source": [
    "## Oppgave 8\n",
    "\n",
    "En investering på 1000 nå vil gi en positiv kontantstrøm på 205 per år fra og med år 2 til og med år 10.\n",
    "\n",
    "Hva er da internrenten?"
   ]
  },
  {
   "cell_type": "code",
   "execution_count": 116,
   "metadata": {},
   "outputs": [
    {
     "name": "stdout",
     "output_type": "stream",
     "text": [
      "-1.81607045065307\n",
      "0.114691153214904\n",
      "-1.67733408272876 - 0.453430295838084*I\n",
      "-1.67733408272876 + 0.453430295838084*I\n",
      "-1.30475414821111 - 0.757069100023018*I\n",
      "-1.30475414821111 + 0.757069100023018*I\n",
      "-0.814278028972359 - 0.806379920687221*I\n",
      "-0.814278028972359 + 0.806379920687221*I\n",
      "-0.352944091368683 - 0.570160496488773*I\n",
      "-0.352944091368683 + 0.570160496488773*I\n",
      "0.115\n"
     ]
    }
   ],
   "source": [
    "C = 205\n",
    "r = sp.symbols('r')\n",
    "n = 10\n",
    "invest = 1000\n",
    "\n",
    "PV = C * (1 - (1 + r)**(-(n)))/r\n",
    "NNV_y1 = (C/(1+r)**1)\n",
    "NNV = PV - NNV_y1 - invest\n",
    "\n",
    "IRR = sp.solve(NNV, r)  # Starting with an initial guess of 10% (0.1)\n",
    "for solution in IRR:\n",
    "    print(solution.evalf())\n",
    "\n",
    "print(f\"{IRR[1].evalf():.3f}\")"
   ]
  }
 ],
 "metadata": {
  "kernelspec": {
   "display_name": "Python 3",
   "language": "python",
   "name": "python3"
  },
  "language_info": {
   "codemirror_mode": {
    "name": "ipython",
    "version": 3
   },
   "file_extension": ".py",
   "mimetype": "text/x-python",
   "name": "python",
   "nbconvert_exporter": "python",
   "pygments_lexer": "ipython3",
   "version": "3.11.7"
  }
 },
 "nbformat": 4,
 "nbformat_minor": 2
}
