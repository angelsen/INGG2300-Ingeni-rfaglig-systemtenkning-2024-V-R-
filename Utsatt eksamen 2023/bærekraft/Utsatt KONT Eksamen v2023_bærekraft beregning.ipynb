{
 "cells": [
  {
   "cell_type": "markdown",
   "metadata": {},
   "source": [
    "## Oppgave 21 - teknologimatrisen\n",
    "\n",
    "Ta utgangspunkt i følgende prosessnettverk, der det inngår fire prosesser med intern utveksling av produkter. De fire prosessene produserer henholdsvis, med angitt enhet\n",
    "\n",
    "- tonn stål (P1, stålverk)\n",
    "- kWh strøm (P2, vindkraftverk)\n",
    "- $m 3$ betong (P3, betongproduksjon), og\n",
    "- tonn-km transport (P4, jernbanetransport)\n",
    "\n",
    "![](https://cdn.mathpix.com/cropped/2024_03_10_4eeb99e6f8dffbb63a1dg-1.jpg?height=754&width=1351&top_left_y=939&top_left_x=244)\n",
    "\n",
    "Du er i tillegg gitt at hver av de fire prosessene trenger følgende innsats i produksjon:\n",
    "\n",
    "| P1, per tonn stål | $2500 \\mathrm{kWh}$ strøm |\n",
    "| :--- | :--- |\n",
    "|  | 500 tonn-km jernbanetransport |\n",
    "| P2, per kWh strøm | 0.1 tonn stål |\n",
    "|  | $0.2 \\mathrm{~m} 3$ betong |\n",
    "| P3, per m3 betong | $800 \\mathrm{kWh}$ strøm |\n",
    "|  | 40 tonn-km jernbanetransport |\n",
    "| P4, per tonn-km transport | $8.0 \\mathrm{kWh} \\mathrm{str}^{2} \\mathrm{~m}$ |\n",
    "|  | 0.1 tonn stål |\n",
    "|  | 0.1 tonn betong ${ }^{1}$ |\n",
    "\n",
    "Under er det gitt et forslag til en teknologimatrise for dette nettverket.\n",
    "\n",
    "Det er en feil i matrisa. Klikk på det tallet som du mener er feil. (Merk at dette er én av oppgavealternativene).[^0]\n",
    "\n",
    "| Input og <br> outputs | P1 | P2 | P3 | P4 |\n",
    "| :--- | :---: | :---: | :---: | :---: |\n",
    "| Stål, tonn | 1 | -0.1 | 0 | -8.0 |\n",
    "| Strøm, kWh | -2500 | 1 | -800 | -8.0 |\n",
    "| Betong, m3 | 0 | -0.2 | -1 | -0.1 |\n",
    "| Transport, tkm | -500 | 0 | -40 | 1 |"
   ]
  },
  {
   "cell_type": "code",
   "execution_count": null,
   "metadata": {},
   "outputs": [],
   "source": [
    "# Løsning"
   ]
  },
  {
   "cell_type": "markdown",
   "metadata": {},
   "source": [
    "## Oppgave 22 - Livsløpsutslipp\n",
    "\n",
    "Vi skal nå regne på livsløpsutslipp fra et prosessnettverk der det inngår fire prosesser med intern utveksling av produkter. Et flytskjema er vist under. De fire prosessene produserer henholdsvis, med angitt enhet\n",
    "\n",
    "- tonn stål (P1, stålverk)\n",
    "- kWh strøm (P2, vindkraftverk)\n",
    "- $m 3$ betong (P3, betongproduksjon), og\n",
    "- tonn-km transport (P4, jernbanetransport)\n",
    "\n",
    "![](https://cdn.mathpix.com/cropped/2024_03_10_4eeb99e6f8dffbb63a1dg-2.jpg?height=808&width=1450&top_left_y=1121&top_left_x=260)\n",
    "\n",
    "Du er gitt følgende teknologimatrise (technology matrix, A) og intervensjonsmatrise (intervention, matrix, B) for systemet.\n",
    "\n",
    "Teknologimatrise:\n",
    "\n",
    "| Input og <br> outputs | P1 (stål) | P2 (straum) | P3 (betong) | P4 (jernb.tr.) |\n",
    "| :--- | :--- | :--- | :--- | :--- |\n",
    "| Stål, tonn | 1 | -0.0001 | 0 | -0.0001 |\n",
    "| Strøm, kWh | -300 | 1 | -1000 | -1.0 |\n",
    "| Betong, m3 | 0 | -0.0002 | 1 | -0.0001 |\n",
    "| Transport, tkm | -250 | 0 | -100 | 1 |\n",
    "\n",
    "Intervensjonsmatrise:\n",
    "\n",
    "| Intervensjon | $\\mathrm{P} 1$ (stål) | $\\mathrm{P} 2$ (straum) | $\\mathrm{P} 3$ (betong) | P4 (jb-transport) |\n",
    "| :--- | :---: | :---: | :---: | :---: |\n",
    "| $\\mathrm{CO}_{2}, \\mathrm{~kg}$ | 1200 | 0.1 | 600 | 36 |\n",
    "| $\\mathrm{SO}_{2}, \\mathrm{~g}$ | 2.5 | 0.001 | 0.7 | 25 |\n",
    "| $\\mathrm{Malm}, \\mathrm{m} 3$ | -3.0 | 0.0 | -1.5 | 0.0 |\n",
    "\n",
    "Regn ut livsløpsutslippene av CO2 i dette systemet av et samlet sluttforbruk på 15 tonn stål og 2 m3 betong. Oppgi svaret som et heltall i enheter $\\mathrm{kg} \\mathrm{CO} 2$ :\n",
    "\n",
    "(svar innenfor +/- 50 godkjennes)"
   ]
  },
  {
   "cell_type": "code",
   "execution_count": 4,
   "metadata": {},
   "outputs": [
    {
     "data": {
      "text/plain": [
       "array([[ 1.0e+00, -1.0e-04,  0.0e+00, -1.0e-04],\n",
       "       [-3.0e+02,  1.0e+00, -1.0e+03, -1.0e+00],\n",
       "       [ 0.0e+00, -2.0e-04,  1.0e+00, -1.0e-04],\n",
       "       [-2.5e+02,  0.0e+00, -1.0e+02,  1.0e+00]])"
      ]
     },
     "metadata": {},
     "output_type": "display_data"
    },
    {
     "data": {
      "text/plain": [
       "array([15,  0,  2,  0])"
      ]
     },
     "metadata": {},
     "output_type": "display_data"
    },
    {
     "data": {
      "text/plain": [
       "array([1.70326495e+01, 1.55099682e+04, 5.58364634e+00, 4.81652702e+03])"
      ]
     },
     "metadata": {},
     "output_type": "display_data"
    },
    {
     "name": "stdout",
     "output_type": "stream",
     "text": [
      "198735.34\n"
     ]
    }
   ],
   "source": [
    "import numpy as np\n",
    "# Teknologimatrise\n",
    "#    np.array(['stål', 'strøm', 'betong', 'j.b.-transport'])\n",
    "P1 = np.array([1, -0.0001, 0, -0.0001])\n",
    "P2 = np.array([-300, 1, -1000, -1.0])\n",
    "P3 = np.array([0, -0.0002, 1, -0.0001])\n",
    "P4 = np.array([-250, 0, -100, 1])\n",
    "\n",
    "A = np.vstack((\n",
    "    P1,\n",
    "    P2,\n",
    "    P3,\n",
    "    P4\n",
    "))\n",
    "\n",
    "dKU = np.array([1200, 0.1, 600, 36])\n",
    "\n",
    "# Samlet sluttforbruk (sSF)\n",
    "r = np.array([15, 0, 2, 0])\n",
    "display(A, r)\n",
    "x = np.linalg.solve(A, r)\n",
    "display(x)\n",
    "\n",
    "sSF = (x*dKU).sum()\n",
    "print(f\"{sSF:.2f}\")"
   ]
  }
 ],
 "metadata": {
  "kernelspec": {
   "display_name": "Python 3",
   "language": "python",
   "name": "python3"
  },
  "language_info": {
   "codemirror_mode": {
    "name": "ipython",
    "version": 3
   },
   "file_extension": ".py",
   "mimetype": "text/x-python",
   "name": "python",
   "nbconvert_exporter": "python",
   "pygments_lexer": "ipython3",
   "version": "3.11.7"
  }
 },
 "nbformat": 4,
 "nbformat_minor": 2
}
