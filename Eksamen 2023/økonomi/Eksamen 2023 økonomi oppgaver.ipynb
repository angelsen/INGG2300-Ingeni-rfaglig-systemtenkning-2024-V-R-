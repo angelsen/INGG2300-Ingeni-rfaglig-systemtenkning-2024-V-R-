{
 "cells": [
  {
   "cell_type": "markdown",
   "metadata": {},
   "source": [
    "## Oppgave 1\n",
    "\n",
    "En bedrift har variable kostnader gitt av $\\mathrm{VC}(\\mathrm{Q})=50 \\cdot \\mathrm{Q}+20 \\cdot \\mathrm{Q}^{1.2}$ kroner, der $\\mathrm{Q}$ er mengden som produseres. De faste kostnadene er på 3500000 kroner per periode. Bedriften produserer 7500 enheter per periode.\n",
    "\n",
    "Hva er bedriftens totale kostnader i løpet av en periode?."
   ]
  },
  {
   "cell_type": "code",
   "execution_count": 2,
   "metadata": {},
   "outputs": [
    {
     "data": {
      "text/plain": [
       "4768518.423625318"
      ]
     },
     "metadata": {},
     "output_type": "display_data"
    }
   ],
   "source": [
    "import numpy as np\n",
    "\n",
    "def VC(Q):\n",
    "    return 50*Q+20*Q**1.2\n",
    "\n",
    "fasteKostnader = 3500000 # NOK/Periode\n",
    "bedriftenProduserer = 7500 # enheter/Periode\n",
    "\n",
    "TC = fasteKostnader + VC(bedriftenProduserer)\n",
    "display(TC)"
   ]
  },
  {
   "cell_type": "markdown",
   "metadata": {},
   "source": [
    "## Oppgave 2\n",
    "\n",
    "Etterspørselen til en bedrift er gitt av P(Q)=100-2Q der P er prisen og Q er mengden.\n",
    "\n",
    "For hvilken pris, P, er etterspørselselastisiteten bedriften ser lik 1.5?\n",
    "\n",
    "Gå ut fra definisjon av egenpriselastisitet som gir ikke-negative tall for normal etterspørsel.\n",
    "\n",
    "---\n",
    "\n",
    "```python\n",
    "# Egenpriselastisiteten forteller oss hvor mye etterspurt mengde (Q) av et produkt vil endre seg som en prosentandel, gitt en endring i prisen (P) på det produktet, også uttrykt som en prosentandel\n",
    "```\n",
    "\n",
    "$E_d = \\left| \\frac{dQ}{dP} \\times \\frac{P}{Q} \\right|$\n",
    "\n",
    "```python\n",
    "# Benytt absoluttverdien av den deriverte\n",
    "dQ_dP = abs(q.diff(P))\n",
    "```"
   ]
  },
  {
   "cell_type": "code",
   "execution_count": 37,
   "metadata": {},
   "outputs": [
    {
     "data": {
      "text/latex": [
       "$\\displaystyle 50 - \\frac{P}{2}$"
      ],
      "text/plain": [
       "50 - P/2"
      ]
     },
     "metadata": {},
     "output_type": "display_data"
    },
    {
     "data": {
      "text/latex": [
       "$\\displaystyle 100 - 2 Q$"
      ],
      "text/plain": [
       "100 - 2*Q"
      ]
     },
     "metadata": {},
     "output_type": "display_data"
    },
    {
     "data": {
      "text/latex": [
       "$\\displaystyle \\frac{1}{2}$"
      ],
      "text/plain": [
       "1/2"
      ]
     },
     "metadata": {},
     "output_type": "display_data"
    },
    {
     "data": {
      "text/latex": [
       "$\\displaystyle \\frac{P}{50 - \\frac{P}{2}}$"
      ],
      "text/plain": [
       "P/(50 - P/2)"
      ]
     },
     "metadata": {},
     "output_type": "display_data"
    },
    {
     "data": {
      "text/latex": [
       "$\\displaystyle \\frac{P}{2 \\cdot \\left(50 - \\frac{P}{2}\\right)}$"
      ],
      "text/plain": [
       "P/(2*(50 - P/2))"
      ]
     },
     "metadata": {},
     "output_type": "display_data"
    },
    {
     "data": {
      "text/latex": [
       "$\\displaystyle \\frac{P}{2 \\cdot \\left(50 - \\frac{P}{2}\\right)}$"
      ],
      "text/plain": [
       "P/(2*(50 - P/2))"
      ]
     },
     "metadata": {},
     "output_type": "display_data"
    },
    {
     "data": {
      "text/latex": [
       "$\\displaystyle 60.0$"
      ],
      "text/plain": [
       "60.0000000000000"
      ]
     },
     "metadata": {},
     "output_type": "display_data"
    }
   ],
   "source": [
    "import sympy as sp\n",
    "\n",
    "P, Q = sp.symbols('P Q')\n",
    "\n",
    "Eq1 = 100 - 2*Q - P\n",
    "\n",
    "q = sp.solve(Eq1, Q)[0]\n",
    "display(q)\n",
    "\n",
    "p = sp.solve(Eq1, P)[0]\n",
    "display(p)\n",
    "\n",
    "# Benytt absoluttverdien av den deriverte\n",
    "dQ_dP = abs(q.diff(P))\n",
    "display(dQ_dP)\n",
    "display(P/q)\n",
    "\n",
    "Eq_Ed = dQ_dP*P/q\n",
    "display(Eq_Ed)\n",
    "\n",
    "display(Eq_Ed)\n",
    "Ed = sp.solve(Eq_Ed -1.5)[0]\n",
    "display(Ed)"
   ]
  },
  {
   "cell_type": "markdown",
   "metadata": {},
   "source": [
    "## Oppgave 3\n",
    "\n",
    "En bedrifts gjeldsgrad dobles fra 0.75 til 1.5. Hvor mye øker gjeldsandelen, dvs. hva er den nye gjeldsandelen minus den gamle\n",
    "\n",
    "---\n",
    "\n",
    "1. **Gjeldsgrad** er forholdet mellom total gjeld og egenkapital i en bedrift.\n",
    "2. **Gjeldsandelen** refererer til andelen av bedriftens samlede finansiering som kommer fra gjeld.\n",
    "\n",
    "Gjeldsgraden (D/E) er definert som total gjeld (D) delt på total egenkapital (E). Gjeldsandelen, derimot, kan finnes ved formelen $\\frac{D}{D+E}$ som er andelen av total finansiering som kommer fra gjeld."
   ]
  },
  {
   "cell_type": "code",
   "execution_count": 38,
   "metadata": {},
   "outputs": [
    {
     "data": {
      "text/plain": [
       "0.17142857142857143"
      ]
     },
     "metadata": {},
     "output_type": "display_data"
    }
   ],
   "source": [
    "# Gjeldsgrad    =   Total Gjeld / Total EK\n",
    "# Gjeldsandel   =   Total Gjeld / ( Total Gjeld + Total EK )\n",
    "\n",
    "# Gjeldsgrad gammel = 0.75 / 1\n",
    "# Gjeldsgrad ny     = 1.5 / 1\n",
    "\n",
    "tgOld = 0.75\n",
    "tgNew = 1.5\n",
    "ek = 1\n",
    "\n",
    "gAndelOld = tgOld/(tgOld+ek)\n",
    "gAndelNew = tgNew/(tgNew+ek)\n",
    "\n",
    "gAndelDiff = gAndelNew - gAndelOld\n",
    "display(gAndelDiff)"
   ]
  },
  {
   "cell_type": "markdown",
   "metadata": {},
   "source": [
    "## Oppgave 4\n",
    "\n",
    "Selskapet \"Bing \\& Bong\" har fire produkter i sortimentet A, B, C og D. Salgsvolum (stykk), pris og direkte kostnader per stykk (kr/stykk) det siste året for de fire produktene er gitt i tabellen:\n",
    "\n",
    "| Produkt | A | B | C | D |\n",
    "| :--- | :---: | :---: | :---: | :---: |\n",
    "| Salgspris (kr/stykk) | 10000 | 11000 | 8000 | 9000 |\n",
    "| Direkte material (kr/stykk) | 1600 | 1700 | 1200 | 1400 |\n",
    "| Direkte lønn (kr/stykk) | 1500 | 1800 | 1200 | 1500 |\n",
    "| Øvrige direkte tilvirkningskostnader <br> (kr/stykk) | 200 | 100 | 100 | 200 |\n",
    "| Salgsprovisjon (kr/stykk) | 1000 | 1100 | 800 | 900 |\n",
    "\n",
    "Tilleggssatser basert på fjorårets indirekte kostnader\n",
    "\n",
    "- Indirekte faste kostnader materialavd. $\\left(\\mathrm{MO}_{\\mathrm{F}}\\right)$ : $20 \\%$\n",
    "- Indirekte faste kostnader produksjonsavd. $\\left(\\mathrm{TO}_{\\mathrm{F}}\\right.$ ) : $156 \\%$\n",
    "- Indirekte variable kostnader produksjonsavd. ( $\\left.\\mathrm{TO}_{\\mathrm{v}}\\right): 25 \\%$\n",
    "- Indirekte faste salgs- og adm. kostnader (S\\&AO $\\mathrm{F}_{\\mathrm{F}}$ ) : 35\\%\n",
    "\n",
    "Hvilket produkt er mest lønnsomt å selge, dvs. gir maksimalt bidrag til profitten per stykk?\n",
    "\n",
    "---\n",
    "\n",
    "$\\text{Dekningsbidrag per stykk} = \\text{Salgspris per stykk} - \\text{Variable kostnader per stykk}$"
   ]
  },
  {
   "cell_type": "code",
   "execution_count": 48,
   "metadata": {},
   "outputs": [
    {
     "data": {
      "text/plain": [
       "array([5325., 5850., 4400., 4625.])"
      ]
     },
     "execution_count": 48,
     "metadata": {},
     "output_type": "execute_result"
    }
   ],
   "source": [
    "# Definerer de gitte verdiene\n",
    "salgspris = np.array([10000, 11000, 8000, 9000])\n",
    "direkteMaterial = np.array([1600, 1700, 1200, 1400])\n",
    "direkteLønn = np.array([1500, 1800, 1200, 1500])\n",
    "øvrigKost = np.array([200, 100, 100, 200])\n",
    "salgsprovisjon = np.array([1000, 1100, 800, 900])\n",
    "\n",
    "# Beregner summen av kostnadene og inntektene\n",
    "bidrag = np.vstack((salgspris, \n",
    "                    -direkteMaterial, \n",
    "                    -direkteLønn * 1.25,\n",
    "                    -øvrigKost,\n",
    "                    -salgsprovisjon))\n",
    "\n",
    "# Beregner summen av kolonnene\n",
    "dekningsbidrag = np.sum(bidrag, axis=0)\n",
    "dekningsbidrag"
   ]
  },
  {
   "cell_type": "markdown",
   "metadata": {},
   "source": [
    "## Oppgave 5\n",
    "\n",
    "Hvis de faste kostnadene er 100000 kroner og den variable kostnaden kan uttrykkes som $\\mathrm{VC}(\\mathrm{Q})=5 \\mathrm{Q}^{2}$ kroner der $\\mathrm{Q}$ er mengden.\n",
    "\n",
    "Hva er marginalkostnaden ved den mengde som gir den laveste gjennomsnittskostnaden per enhet?\n",
    "\n",
    "---\n",
    "\n",
    "**Marginalkostnaden**\n",
    "\n",
    "$\\frac{dAC}{dQ} = \\frac{MC - AC}{Q}$\n",
    "\n",
    "$MC = \\frac{dAC}{dQ} \\times Q + AC$"
   ]
  },
  {
   "cell_type": "code",
   "execution_count": 57,
   "metadata": {},
   "outputs": [
    {
     "data": {
      "text/latex": [
       "$\\displaystyle 100 \\sqrt{2}$"
      ],
      "text/plain": [
       "100*sqrt(2)"
      ]
     },
     "metadata": {},
     "output_type": "display_data"
    },
    {
     "data": {
      "text/latex": [
       "$\\displaystyle 1414.2135623731$"
      ],
      "text/plain": [
       "1414.21356237310"
      ]
     },
     "metadata": {},
     "output_type": "display_data"
    }
   ],
   "source": [
    "Q = sp.symbols('Q')\n",
    "\n",
    "fasteKostnader = 100000\n",
    "variableKostnader = 5*Q**2\n",
    "\n",
    "AC = (fasteKostnader + variableKostnader)/Q\n",
    "\n",
    "AC_lowest = sp.solve(AC.diff(Q))[1]\n",
    "display(AC_lowest)\n",
    "\n",
    "MC = (AC.diff(Q) * Q + AC).subs(Q,AC_lowest)\n",
    "display(MC.evalf())"
   ]
  },
  {
   "cell_type": "markdown",
   "metadata": {},
   "source": [
    "## Oppgave 6\n",
    "\n",
    "En bedrift har **totalkapitalrentabilitet (ROA)** før skatt på 10\\%. **Renten på gjeld** er $4 \\%$ og **gjeldsandelen** er $40 \\%$.\n",
    "\n",
    "Hva blir bedriftens **egenkapitalrentabiliteten (ROE)** før skatt?\n",
    "\n",
    "---\n",
    "\n",
    "Given:\n",
    "\n",
    "- Total asset return before tax (ROA) = 10%\n",
    "- Interest rate on debt = 4%\n",
    "- Debt ratio = 40%\n",
    "\n",
    "The return on equity (ROE) before tax can be calculated as follows:\n",
    "\n",
    "$ROE = ROA + (ROA - \\text{Interest rate on debt}) \\times (\\text{Debt ratio} / \\text{Equity ratio})$\n",
    "\n"
   ]
  },
  {
   "cell_type": "code",
   "execution_count": 61,
   "metadata": {},
   "outputs": [
    {
     "data": {
      "text/plain": [
       "0.14"
      ]
     },
     "metadata": {},
     "output_type": "display_data"
    }
   ],
   "source": [
    "ROA = 0.10              # Totalkapitalrentabilitet (Return on assets)\n",
    "rentePåGjeld = 0.04\n",
    "gjeldsAndel = 0.4\n",
    "egenkapitAlandel = 1 - gjeldsAndel\n",
    "gjeldsgrad = gjeldsAndel/egenkapitAlandel # finansiell gearing\n",
    "\n",
    "# egenkapitalrentabilitet (Return on equity)\n",
    "ROE = ROA + (ROA - rentePåGjeld)*gjeldsgrad\n",
    "display(ROE)"
   ]
  },
  {
   "cell_type": "markdown",
   "metadata": {},
   "source": [
    "## Oppgave 7\n",
    "\n",
    "Hvis nåverdien av en betaling på 1000 kroner om tre år er 800 kroner, inflasjonen er 4\\%, hva er da den reale kalkulasjonsrenten?\n",
    "\n",
    "---\n",
    "\n",
    "$PV = \\frac{FV}{(1 + n)^t}$\n",
    "\n",
    "Where:\n",
    "- $PV = 800$ (present value)\n",
    "- $FV = 1000$ (future value)\n",
    "- $t = 3$ (years)\n",
    "- $n$ is what we're solving for initially (the nominal interest rate)."
   ]
  },
  {
   "cell_type": "code",
   "execution_count": 67,
   "metadata": {},
   "outputs": [
    {
     "data": {
      "text/latex": [
       "$\\displaystyle 0.0772173450159419$"
      ],
      "text/plain": [
       "0.0772173450159419"
      ]
     },
     "metadata": {},
     "output_type": "display_data"
    },
    {
     "data": {
      "text/latex": [
       "$\\displaystyle -1.53860867250797 - 0.932897586181032 i$"
      ],
      "text/plain": [
       "-1.53860867250797 - 0.932897586181032*I"
      ]
     },
     "metadata": {},
     "output_type": "display_data"
    },
    {
     "data": {
      "text/latex": [
       "$\\displaystyle -1.53860867250797 + 0.932897586181032 i$"
      ],
      "text/plain": [
       "-1.53860867250797 + 0.932897586181032*I"
      ]
     },
     "metadata": {},
     "output_type": "display_data"
    },
    {
     "data": {
      "text/latex": [
       "$\\displaystyle 0.0772173450159419$"
      ],
      "text/plain": [
       "0.0772173450159419"
      ]
     },
     "metadata": {},
     "output_type": "display_data"
    }
   ],
   "source": [
    "n = sp.symbols('n')\n",
    "\n",
    "PV = 800\n",
    "FV = 1000\n",
    "t = 3\n",
    "\n",
    "Eq7 = FV/(1+n)**t - PV\n",
    "\n",
    "N = sp.solve(Eq7)\n",
    "\n",
    "for n in N:\n",
    "    display(n.evalf())\n",
    "\n",
    "realeKalkulasjonsrenten = N[0].evalf()\n",
    "display(realeKalkulasjonsrenten)"
   ]
  },
  {
   "cell_type": "markdown",
   "metadata": {},
   "source": [
    "## Oppgave 8\n",
    "\n",
    "En investering på 1000 nå vil gi en positiv kontantstrøm på 205 per år fra år 2 til år x.\n",
    "\n",
    "Hva er den laveste verdien av $\\mathrm{x}$ som gjør at investeringen er lønnsom dersom\n",
    "\n",
    "kalkulasjonsrenten er $10 \\%$ ?\n",
    "\n",
    "---\n",
    "\n",
    "$\\text{NPV of a cash flow at time } t: \\quad NNV_t = \\frac{\\text{Cash Flow at time } t}{(1+r)^t}$\n",
    "$\\text{Where: } r = \\text{discount rate, } t = \\text{time period}$\n",
    "\n",
    "$\\text{Present Value of an Ordinary Annuity:} \\quad PV = C \\times \\frac{1 - (1 + r)^{-n}}{r}$\n",
    "$\\text{Where: } C = \\text{annual cash flow, } r = \\text{discount rate, } n = \\text{number of periods}$\n",
    "\n",
    "$\\text{Sum of an infinite geometric series (Perpetuity):} \\quad S = \\frac{a}{1 - r}$\n",
    "$\\text{Where: } a = \\text{first term of the series, } r = \\text{common ratio}$\n"
   ]
  },
  {
   "cell_type": "code",
   "execution_count": 103,
   "metadata": {},
   "outputs": [
    {
     "data": {
      "text/latex": [
       "$\\displaystyle 9.06978949275853$"
      ],
      "text/plain": [
       "9.06978949275853"
      ]
     },
     "metadata": {},
     "output_type": "display_data"
    },
    {
     "data": {
      "text/latex": [
       "$\\displaystyle -830.578512396694$"
      ],
      "text/plain": [
       "-830.578512396694"
      ]
     },
     "metadata": {},
     "output_type": "display_data"
    }
   ],
   "source": [
    "C = 205\n",
    "r = 0.10\n",
    "n = sp.symbols('n')\n",
    "invest = 1000\n",
    "\n",
    "PV = C * (1 - (1 + r)**(-(n)))/r\n",
    "NNV_y1 = (C/(1+r)**1)\n",
    "NNV = PV - NNV_y1 - invest\n",
    "\n",
    "N = sp.solve(NNV)[0]\n",
    "display(N)\n",
    "\n",
    "display(NNV.subs(n, 2))"
   ]
  },
  {
   "cell_type": "markdown",
   "metadata": {},
   "source": [
    "## Oppgave 9\n",
    "\n",
    "Den indirekte etterspørselsfunksjonen i et monopolmarked er $\\mathrm{P}(\\mathrm{Q})=150-1.5 \\mathrm{Q}$ og monopolselskapets marginalkostnad er $\\mathrm{MC}(\\mathrm{Q})=75+\\mathrm{Q}$, der $\\mathrm{P}$ er prisen, $\\mathrm{MC}$ er marginalkostnaden og $\\mathrm{Q}$ er mengden.\n",
    "\n",
    "Hva er det samfunnsøkonomiske dødvektstapet hvis monopolselskapet maksimerer sin profitt?\n",
    "\n",
    "---\n",
    "\n",
    "Here are the relevant equations used in your calculations with proper LaTeX formatting:\n",
    "\n",
    "1. The demand function (or inverse demand function) in the market:\n",
    "   $ P(Q) = 150 - 1.5Q $\n",
    "   where $ P $ is the price and $ Q $ is the quantity.\n",
    "\n",
    "2. The total revenue (TR), which is the price multiplied by the quantity:\n",
    "   $ TR(Q) = Q \\cdot P(Q) = Q \\cdot (150 - 1.5Q) $\n",
    "\n",
    "3. The marginal revenue (MR), which is the derivative of total revenue with respect to quantity:\n",
    "   $ MR(Q) = \\frac{d(TR)}{dQ} = 150 - 3Q $\n",
    "\n",
    "4. The marginal cost (MC), which represents the increase in total cost from producing one additional unit:\n",
    "   $ MC(Q) = 75 + Q $\n",
    "\n",
    "5. The profit-maximizing quantity for the monopoly, found by setting marginal revenue equal to marginal cost:\n",
    "   $ MR(Q) = MC(Q) \\Rightarrow 150 - 3Q = 75 + Q $\n",
    "   Solve for $ Q $ to find $ Q_{\\text{monopol}} $.\n",
    "\n",
    "6. The quantity that would be produced in a perfectly competitive market (the socially efficient quantity), found by setting the price equal to marginal cost:\n",
    "   $ P(Q) = MC(Q) \\Rightarrow 150 - 1.5Q = 75 + Q $\n",
    "   Solve for $ Q $ to find $ Q_{\\text{konkurranse}} $.\n",
    "\n",
    "7. The deadweight loss (DWL), representing the loss in social welfare due to the monopoly's pricing and output decision, calculated as the area between the demand curve and the marginal cost curve from the monopoly quantity to the competitive quantity:\n",
    "   $ \\text{DWL} = \\int_{Q_{\\text{monopol}}}^{Q_{\\text{konkurranse}}} (P(Q) - MC(Q)) \\, dQ $"
   ]
  },
  {
   "cell_type": "code",
   "execution_count": 113,
   "metadata": {},
   "outputs": [
    {
     "data": {
      "text/latex": [
       "$\\displaystyle 18.75$"
      ],
      "text/plain": [
       "18.7500000000000"
      ]
     },
     "metadata": {},
     "output_type": "display_data"
    },
    {
     "data": {
      "text/latex": [
       "$\\displaystyle 30.0$"
      ],
      "text/plain": [
       "30.0000000000000"
      ]
     },
     "metadata": {},
     "output_type": "display_data"
    },
    {
     "data": {
      "text/latex": [
       "$\\displaystyle 158.203125$"
      ],
      "text/plain": [
       "158.203125000000"
      ]
     },
     "metadata": {},
     "output_type": "display_data"
    }
   ],
   "source": [
    "Q = sp.symbols('Q') # Quantity\n",
    "P = 150 - 1.5*Q     # Price\n",
    "TR = Q * P          # Total Revenue\n",
    "MR = TR.diff(Q)     # Marginal Revenue\n",
    "                    # dTR/dQ\n",
    "                    # Endring i omseting ved endring i mengde\n",
    "\n",
    "MC = 75 + Q         # Marginal Cost\n",
    "                    # dC/dQ\n",
    "                    # Ending i kostnader ved endring i mengde\n",
    "\n",
    "# Profit maximering i et monopol er nå MR = MC \n",
    "# Profit maximerende mengde `Q_monopol`\n",
    "Q_monopol = sp.solve(MR - MC, Q)[0]\n",
    "display(Q_monopol)\n",
    "\n",
    "# Profit maximering i et fritt marked er nå P = MC\n",
    "# Profit maximerende mengde `Q_konkurranse`\n",
    "Q_konkurranse = sp.solve(P - MC, Q)[0]\n",
    "display(Q_konkurranse)\n",
    "\n",
    "# Calculate DWL\n",
    "# Deadweight Loss (DWL): Calculate as the area between the demand curve and MC from Q_monopol to Q_konkurranse\n",
    "DWL = sp.integrate(P - MC, (Q, Q_monopol, Q_konkurranse))\n",
    "display(DWL)"
   ]
  },
  {
   "cell_type": "markdown",
   "metadata": {},
   "source": [
    "## Oppgave 10\n",
    "\n",
    "Kontantstrømmene for fire investeringer med økonomisk levetid på henholdsvis 4, 5, 5 og 6 år er som følger:\n",
    "\n",
    "|  | A | B | C | D |\n",
    "| :--- | :---: | :---: | :---: | :---: |\n",
    "| $\\mathrm{k}_{0}$ | -2100 | -2200 | -2300 | -2400 |\n",
    "| $\\mathrm{k}_{1}$ | 750 | 650 | 600 | 650 |\n",
    "| $\\mathrm{k}_{2}$ | 750 | 650 | 600 | 650 |\n",
    "| $\\mathrm{k}_{3}$ | 750 | 650 | 700 | 650 |\n",
    "| $\\mathrm{k}_{4}$ | 1000 | 650 | 700 | 650 |\n",
    "| $\\mathrm{k}_{5}$ |  | 1000 | 1100 | 650 |\n",
    "| $\\mathrm{k}_{6}$ |  |  |  | 800 |\n",
    "\n",
    "Kalkulasjonsrenten for alle investeringene er $10 \\%$.\n",
    "\n",
    "Hvilken av de fire investeringene er best økonomisk om det er forutsatt at man ikke kan gjenta investeringene og man har mangel på midler (penger)?"
   ]
  },
  {
   "cell_type": "code",
   "execution_count": 122,
   "metadata": {},
   "outputs": [
    {
     "name": "stdout",
     "output_type": "stream",
     "text": [
      "448.15244860323696 \t 0.2134059279063033\n",
      "481.33386318619534 \t 0.2187881196300888\n",
      "428.3655488013109 \t 0.18624589078317866\n",
      "515.5905441585129 \t 0.21482939339938037\n"
     ]
    }
   ],
   "source": [
    "A = [-2100, 750, 750, 750, 1000]\n",
    "B = [-2200, 650, 650, 650, 650, 1000]\n",
    "C = [-2300, 600, 600, 700, 700, 1100]\n",
    "D = [-2400, 650, 650, 650, 650, 650, 800]\n",
    "\n",
    "def NNV(n, KS):\n",
    "    return KS / (1.1)**n\n",
    "\n",
    "def calcNNV(list):\n",
    "    total = 0\n",
    "    for n, KS in enumerate(list):\n",
    "        total += NNV(n, KS)\n",
    "    return total\n",
    "\n",
    "investeringer = [A, B, C, D]\n",
    "\n",
    "for investering in investeringer:\n",
    "    print(calcNNV(investering),'\\t', calcNNV(investering)/abs(investering[0]))\n",
    "    \n"
   ]
  }
 ],
 "metadata": {
  "kernelspec": {
   "display_name": "Python 3",
   "language": "python",
   "name": "python3"
  },
  "language_info": {
   "codemirror_mode": {
    "name": "ipython",
    "version": 3
   },
   "file_extension": ".py",
   "mimetype": "text/x-python",
   "name": "python",
   "nbconvert_exporter": "python",
   "pygments_lexer": "ipython3",
   "version": "3.11.7"
  }
 },
 "nbformat": 4,
 "nbformat_minor": 2
}
