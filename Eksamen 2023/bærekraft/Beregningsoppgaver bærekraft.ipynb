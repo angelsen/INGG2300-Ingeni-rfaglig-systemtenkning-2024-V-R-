{
 "cells": [
  {
   "cell_type": "markdown",
   "metadata": {},
   "source": [
    "## Beregningsoppgave 1- Teknologimatrise 3 poeng \n",
    "\n",
    "Ta utgangspunkt i følgende prosessnettverk, der det inngår fire prosesser med intern utveksling av produkter. De fire prosessene produserer henholdsvis, med angitt enhet\n",
    "\n",
    "- tonn stål (P1, stålverk)\n",
    "- $k W h$ strøm (P2, vindkraftverk)\n",
    "- $m 3$ betong (P3, betongproduksjon), og\n",
    "- tonn-km transport (P4, jernbanetransport)\n",
    "\n",
    "![](https://cdn.mathpix.com/cropped/2024_03_09_279b8ceb610e8e048e06g-1.jpg?height=811&width=1465&top_left_y=811&top_left_x=250)\n",
    "\n",
    "Du er i tillegg gitt at hver av de fire prosessene trenger følgende innsats i produksjon:\n",
    "\n",
    "| P1, per tonn stål | $2500 \\mathrm{kWh}$ strøm |\n",
    "| :--- | :--- |\n",
    "|  | 500 tonn-km jernbanetransport |\n",
    "| P2, per kWh strøm | 0.1 tonn stål |\n",
    "|  | $0.2 \\mathrm{~m} 3$ betong |\n",
    "| P3, per m3 betong | $800 \\mathrm{kWh}$ strøm |\n",
    "|  | 40 tonn-km jernbanetransport |\n",
    "| P4, per tonn-km transport | $8.0 \\mathrm{kWh}$ strøm |\n",
    "|  | 0.1 tonn stål |\n",
    "|  | 0.1 tonn betong |\n",
    "\n",
    "Her er ett forslag til en teknologimatrise for dette nettverket, der rekkefølgen på radene er lik den for kolonnene. (merk at dette er matrisen i ett av oppgavealternativene)\n",
    "\n",
    "| P1 (stål) | P2 (strøm) | P3 (betong) | P4 (jb-transport) |\n",
    "| :--- | :--- | :--- | :--- |\n",
    "| 1 | -0.1 | 0 | -0.1 |\n",
    "| -2500 | 1 | -8.0 | -8.0 |\n",
    "| -0 | -0.2 | 1 | -0.1 |\n",
    "| -500 | 0 | -40 | 1 |\n",
    "\n",
    "Det er en feil i matrisen. Oppgi hva verdien for dette tallet skulle vært, som en absolutt verdi (du kan bruke enten punktum eller komma som desimaltegn, oppgi svaret som en positiv verdi)"
   ]
  },
  {
   "cell_type": "code",
   "execution_count": 8,
   "metadata": {},
   "outputs": [
    {
     "data": {
      "text/plain": [
       "array([[    1. , -2500. ,     0. ,  -500. ],\n",
       "       [   -0.1,     1. ,    -0.2,     0. ],\n",
       "       [    0. ,  -800. ,     1. ,   -40. ],\n",
       "       [   -0.1,    -8. ,    -0.1,     1. ]])"
      ]
     },
     "metadata": {},
     "output_type": "display_data"
    },
    {
     "data": {
      "text/plain": [
       "array([[    1. ,    -0.1,     0. ,    -0.1],\n",
       "       [-2500. ,     1. ,  -800. ,    -8. ],\n",
       "       [    0. ,    -0.2,     1. ,    -0.1],\n",
       "       [ -500. ,     0. ,   -40. ,     1. ]])"
      ]
     },
     "metadata": {},
     "output_type": "display_data"
    },
    {
     "data": {
      "text/markdown": [
       "Oppgi hva verdien for dette tallet skulle vært, som en absolutt verdi **800**."
      ],
      "text/plain": [
       "<IPython.core.display.Markdown object>"
      ]
     },
     "metadata": {},
     "output_type": "display_data"
    }
   ],
   "source": [
    "import numpy as np\n",
    "from IPython.display import Markdown\n",
    "\n",
    "# Teknologimatrise\n",
    "#    np.array(['stål', 'strøm', 'betong', 'j.b.-transport'])\n",
    "P1 = np.array([1, -2500, 0, -500])\n",
    "P2 = np.array([-0.1, 1, -0.2, 0])\n",
    "P3 = np.array([0, -800, 1, -40])\n",
    "P4 = np.array([-0.1, -8, -0.1, 1])\n",
    "\n",
    "A = np.vstack((\n",
    "    P1,\n",
    "    P2,\n",
    "    P3,\n",
    "    P4\n",
    "))\n",
    "\n",
    "np.set_printoptions(precision=2, suppress=True)\n",
    "display(A)\n",
    "display(A.T)\n",
    "\n",
    "display(Markdown(\"Oppgi hva verdien for dette tallet skulle vært, som en absolutt verdi **800**.\"))"
   ]
  },
  {
   "cell_type": "markdown",
   "metadata": {},
   "source": [
    "## Beregningsoppgave 2 - Livsløpsanalyse 15 poeng\n",
    "\n",
    "Vi bruker samme flytskjema som i forrige oppgave, men med en noe endret teknologi-matrise. (Amatrise). De ulike prosessene leverer som før tonn stål (P1, stålverk), kWh strøm (P2, vindkraftverk), $m 3$ betong ( $P 3$, betongproduksjon), og tonn-km transport (P4, jernbanetransport). Flytskjema er slik:\n",
    "\n",
    "Samme flytskjema som i sted\n",
    "\n",
    "Vi bruker følgende A-matrise:\n",
    "\n",
    "|  | P1 (stål) | P2 (strøm) | P3 (betong) | P4 (jernb.tr.) |\n",
    "| :--- | :--- | :--- | :--- | :--- |\n",
    "| P1 | 1 | -0.0001 | 0 | -0.0001 |\n",
    "| P2 | -300 | 1 | -1000 | -1.0 |\n",
    "| P3 | 0 | -0.0002 | 1 | -0.0001 |\n",
    "| P4 | -250 | 0 | -100 | 1 |\n",
    "\n",
    "Du er gitt at de direkte klimautslippene fra hver prosess per produsert enhet er slik:\n",
    "\n",
    "|  | P1, per tonn | P2, per kWh | P3, per m3 | P4, per tonn-km |\n",
    "| :--- | :--- | :--- | :--- | :--- |\n",
    "| kg CO2 | 1200 | 0.005 | 500 | 0.05 |\n",
    "\n",
    "Regn ut livsløpsutslippene i $\\mathrm{kg} \\mathrm{CO}_{2}$ av et samlet sluttforbruk på 15 tonn stål og 2 m3 betong. Oppgi svaret som et heltall: . (svar innenfor +/- 50 godkjennes)"
   ]
  },
  {
   "cell_type": "code",
   "execution_count": 25,
   "metadata": {},
   "outputs": [
    {
     "data": {
      "text/plain": [
       "array([[    1.,    -0.,     0.,    -0.],\n",
       "       [ -300.,     1., -1000.,    -1.],\n",
       "       [    0.,    -0.,     1.,    -0.],\n",
       "       [ -250.,     0.,  -100.,     1.]])"
      ]
     },
     "metadata": {},
     "output_type": "display_data"
    },
    {
     "data": {
      "text/plain": [
       "array([15,  0,  2,  0])"
      ]
     },
     "metadata": {},
     "output_type": "display_data"
    },
    {
     "data": {
      "text/plain": [
       "array([   17.03, 15509.97,     5.58,  4816.53])"
      ]
     },
     "metadata": {},
     "output_type": "display_data"
    },
    {
     "name": "stdout",
     "output_type": "stream",
     "text": [
      "23549.38\n"
     ]
    }
   ],
   "source": [
    "# Teknologimatrise\n",
    "#    np.array(['stål', 'strøm', 'betong', 'j.b.-transport'])\n",
    "P1 = np.array([1, -2500, 0, -500])\n",
    "P1 = np.array([1, -0.0001, 0, -0.0001])\n",
    "P2 = np.array([-300, 1, -1000, -1.0])\n",
    "P3 = np.array([0, -0.0002, 1, -0.0001])\n",
    "P4 = np.array([-250, 0, -100, 1])\n",
    "\n",
    "A = np.vstack((\n",
    "    P1,\n",
    "    P2,\n",
    "    P3,\n",
    "    P4\n",
    "))\n",
    "\n",
    "# Direkte klimautslipp (dKU)\n",
    "dKU = np.array([1200, 0.005, 500, 0.05])\n",
    "\n",
    "# Samlet sluttforbruk (sSF)\n",
    "r = np.array([15, 0, 2, 0])\n",
    "display(A, r)\n",
    "x = np.linalg.solve(A, r)\n",
    "display(x)\n",
    "\n",
    "sSF = (x*dKU).sum()\n",
    "print(f\"{sSF:.2f}\")"
   ]
  },
  {
   "cell_type": "markdown",
   "metadata": {},
   "source": [
    "## Beregningsoppgave 3 MFA 6 poeng\n",
    "\n",
    "Under er et flytskjema for materialstrømsanalyse av stål i byggenæringen, med alle strømmer og systemgrenser tegnet inn. Du vet om dette systemet at:\n",
    "\n",
    "- I Bygg og anlegg blir $25 \\%$ av stålet tapt til annen behandling ut av systemet. Resten går til Avfallsmottak for sortering.\n",
    "- I Avfallsmottaket blir 5\\% av innlevert stål sendt videre til annen behandling, mens resten går som en sortert strøm til omsmelting til nye stålprodukter fra stålverket.\n",
    "- Vi er gitt at det er 500000 tonn stål som leveres til Avfallsmottak fra bygg og anlegg årlig.\n",
    "\n",
    "![](https://cdn.mathpix.com/cropped/2024_03_09_279b8ceb610e8e048e06g-3.jpg?height=674&width=1130&top_left_y=263&top_left_x=243)\n",
    "\n",
    "Du er oppgitt en nesten komplett koffisientmatrise og y-vektor for dette systemet, det eneste som mangler er materialbalansen for P1 (stålverket). (Merk at dette er for én av oppgaveparallellene).\n",
    "\n",
    "| $\\mathrm{X}_{01}$ | $\\mathrm{X}_{12}$ | $\\mathrm{X}_{20}$ | $\\mathrm{X}_{23}$ | $\\mathrm{X}_{30}$ | $\\mathrm{X}_{31}$ | $\\mathrm{y}$-vektor |\n",
    "| :--- | :--- | :--- | :--- | :--- | :--- | :--- |\n",
    "| 0 | 1 | -1 | -1 | 0 | 0 | 0 |\n",
    "| 0 | 0 | 0 | 1 | -1 | -1 | 0 |\n",
    "|  |  |  |  |  |  |  |\n",
    "| 0 | 0 | 0 | -0.05 | 1 | 0 | 0 |\n",
    "| 0 | 0 | 0 | 1 | 0 | 0 | 500000 |\n",
    "\n",
    "Gjør matrisen ferdig og regn ut størrelsen på strømmen x01, det vil si systemets import av nytt stål. Skriv svaret som et helsiffer i tonn/år: . (svar innenfor +/- 50 godkjennes)."
   ]
  },
  {
   "cell_type": "code",
   "execution_count": 38,
   "metadata": {},
   "outputs": [
    {
     "data": {
      "text/plain": [
       "array([[ 1.  , -1.  ,  0.  ,  0.  ,  0.  ,  1.  ],\n",
       "       [ 0.  ,  1.  , -1.  , -1.  ,  0.  ,  0.  ],\n",
       "       [ 0.  ,  0.  ,  0.  ,  1.  , -1.  , -1.  ],\n",
       "       [ 0.  , -0.25,  1.  ,  0.  ,  0.  ,  0.  ],\n",
       "       [ 0.  ,  0.  ,  0.  , -0.05,  1.  ,  0.  ],\n",
       "       [ 0.  ,  0.  ,  0.  ,  1.  ,  0.  ,  0.  ]])"
      ]
     },
     "metadata": {},
     "output_type": "display_data"
    },
    {
     "data": {
      "text/plain": [
       "array([     0.,      0.,      0.,      0.,      0., 500000.])"
      ]
     },
     "metadata": {},
     "output_type": "display_data"
    },
    {
     "data": {
      "text/plain": [
       "array([191666.67, 666666.67, 166666.67, 500000.  ,  25000.  , 475000.  ])"
      ]
     },
     "metadata": {},
     "output_type": "display_data"
    },
    {
     "name": "stdout",
     "output_type": "stream",
     "text": [
      "191666.67\n"
     ]
    }
   ],
   "source": [
    "# Prosessligninger i systemet\n",
    "# Koeffisientmatrise\n",
    "# np.array([X_01, X_12, X_20, X_23, X_30, X_31, y-vektor])\n",
    "P1  = np.array([1, -1, 0, 0, 0, 1, 0])\n",
    "P2  = np.array([0, 1, -1, -1, 0, 0, 0,])\n",
    "P3  = np.array([0, 0, 0, 1, -1, -1, 0,])\n",
    "\n",
    "# Materialbalanser, konstantene i systemet\n",
    "M1  = np.array([0, -0.25, 1, 0, 0, 0, 0])\n",
    "M2  = np.array([0, 0, 0, -0.05, 1, 0, 0,])\n",
    "M3  = np.array([0, 0, 0, 1, 0, 0, 500000,])\n",
    "\n",
    "A_Y = np.vstack((\n",
    "    P1,\n",
    "    P2,\n",
    "    P3,\n",
    "    M1,\n",
    "    M2,\n",
    "    M3,\n",
    "))\n",
    "\n",
    "# Matrix A (Coefficient matrix)\n",
    "A = A_Y[:, :-1] # All rows, all but the last column\n",
    "\n",
    "# Matrix Y (RHS vector)\n",
    "Y = A_Y[:, -1]  # All rows, just the last column\n",
    "\n",
    "display(A, Y)\n",
    "# Solve for X (the variables)\n",
    "X = np.linalg.solve(A, Y)\n",
    " \n",
    "# Display the solution\n",
    "display(X)\n",
    "\n",
    "print(f\"{X[0]:.2f}\")"
   ]
  }
 ],
 "metadata": {
  "kernelspec": {
   "display_name": "Python 3",
   "language": "python",
   "name": "python3"
  },
  "language_info": {
   "codemirror_mode": {
    "name": "ipython",
    "version": 3
   },
   "file_extension": ".py",
   "mimetype": "text/x-python",
   "name": "python",
   "nbconvert_exporter": "python",
   "pygments_lexer": "ipython3",
   "version": "3.11.7"
  }
 },
 "nbformat": 4,
 "nbformat_minor": 2
}
