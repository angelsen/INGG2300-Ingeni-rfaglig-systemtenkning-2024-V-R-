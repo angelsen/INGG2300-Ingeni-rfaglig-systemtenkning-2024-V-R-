{
 "cells": [
  {
   "cell_type": "code",
   "execution_count": 19,
   "metadata": {},
   "outputs": [
    {
     "data": {
      "text/plain": [
       "array([[ 1.1       , -0.2       , -1.        ],\n",
       "       [-1.        ,  2.22222222, -0.11111111],\n",
       "       [ 0.        ,  0.        ,  1.        ]])"
      ]
     },
     "metadata": {},
     "output_type": "display_data"
    }
   ],
   "source": [
    "import numpy as np\n",
    "import sympy as sp\n",
    "\n",
    "\n",
    "num_a = ( 0.1 / 0.09 ) - 1\n",
    "num_b = 0.25 * 1\n",
    "num_c = 1.4 * 10\n",
    "num_d = 1.0 * 1\n",
    "\n",
    "# metall = np.array([P1, P2, P3])\n",
    "metall = np.array([0.1+num_d, -0.1*2, -num_d])\n",
    "strøm = np.array([-1, (1+num_a)*2, -num_a])\n",
    "dingsar = np.array([0, 0, 1])\n",
    "\n",
    "P = np.array(['P1', 'P2', 'P3'])\n",
    "\n",
    "A = (np.vstack((\n",
    "    #P,\n",
    "    metall,\n",
    "    strøm,\n",
    "    dingsar\n",
    ")))\n",
    "\n",
    "display(A)"
   ]
  },
  {
   "cell_type": "code",
   "execution_count": 20,
   "metadata": {},
   "outputs": [
    {
     "data": {
      "text/plain": [
       "array([[-10.  ,   0.  ,   0.  ],\n",
       "       [ 14.  ,   1.  ,   0.25]])"
      ]
     },
     "metadata": {},
     "output_type": "display_data"
    }
   ],
   "source": [
    "metallmalm = np.array([-10, 0, 0])\n",
    "CO_2 = np.array([num_c, 0.5*2, num_b])\n",
    "\n",
    "B = np.vstack((\n",
    "    metallmalm,\n",
    "    CO_2\n",
    "))\n",
    "display(B)"
   ]
  },
  {
   "cell_type": "code",
   "execution_count": 21,
   "metadata": {},
   "outputs": [
    {
     "data": {
      "text/plain": [
       "array([[0],\n",
       "       [0],\n",
       "       [1]])"
      ]
     },
     "metadata": {},
     "output_type": "display_data"
    },
    {
     "data": {
      "text/plain": [
       "array([0, 0, 1])"
      ]
     },
     "metadata": {},
     "output_type": "display_data"
    }
   ],
   "source": [
    "\n",
    "# metall = np.array([P1, P2, P3])\n",
    "r_metall = np.array([0])\n",
    "r_strøm = np.array([0])\n",
    "r_dingsar = np.array([1])\n",
    "\n",
    "r = (np.vstack((\n",
    "    r_metall,\n",
    "    r_strøm,\n",
    "    r_dingsar\n",
    ")))\n",
    "display(r)\n",
    "r = np.array([0, 0, 1])\n",
    "display(r)"
   ]
  },
  {
   "cell_type": "code",
   "execution_count": 22,
   "metadata": {},
   "outputs": [
    {
     "data": {
      "text/plain": [
       "array([1. , 0.5, 1. ])"
      ]
     },
     "metadata": {},
     "output_type": "display_data"
    }
   ],
   "source": [
    "x = np.linalg.solve(A,r)\n",
    "display(x)"
   ]
  },
  {
   "cell_type": "code",
   "execution_count": 23,
   "metadata": {},
   "outputs": [
    {
     "data": {
      "text/plain": [
       "array([-10.  ,  14.75])"
      ]
     },
     "metadata": {},
     "output_type": "display_data"
    }
   ],
   "source": [
    "display(np.sum(x*B,axis=1))\n"
   ]
  },
  {
   "cell_type": "code",
   "execution_count": null,
   "metadata": {},
   "outputs": [],
   "source": [
    "\n",
    "c02_dingsar = np.sum(x*B.T, axis=0)[1]\n",
    "display(c02_dingsar)"
   ]
  }
 ],
 "metadata": {
  "kernelspec": {
   "display_name": "Python 3",
   "language": "python",
   "name": "python3"
  },
  "language_info": {
   "codemirror_mode": {
    "name": "ipython",
    "version": 3
   },
   "file_extension": ".py",
   "mimetype": "text/x-python",
   "name": "python",
   "nbconvert_exporter": "python",
   "pygments_lexer": "ipython3",
   "version": "3.11.7"
  }
 },
 "nbformat": 4,
 "nbformat_minor": 2
}
