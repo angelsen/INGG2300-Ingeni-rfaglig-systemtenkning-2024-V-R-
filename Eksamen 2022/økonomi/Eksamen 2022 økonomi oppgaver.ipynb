{
 "cells": [
  {
   "cell_type": "markdown",
   "metadata": {},
   "source": [
    "## Oppgave 1 \n",
    "\n",
    "En bedrift har lineære kostnader slik at totalkostnadsfunksjonen, $T C(Q)$, er en lineær funksjon av mengden, $Q$. For en mengde på 1000 er totalkostnadene på 110000 kroner og for en mengde på 1500 er totalkostnadene på 160000 kroner.\n",
    "\n",
    "Hva er da marginalkostnadene for mengde på 1200? (Svar i hele kroner.)"
   ]
  },
  {
   "cell_type": "code",
   "execution_count": 7,
   "metadata": {},
   "outputs": [
    {
     "data": {
      "text/plain": [
       "{x_1: 100, x_2: 10000}"
      ]
     },
     "metadata": {},
     "output_type": "display_data"
    },
    {
     "data": {
      "text/latex": [
       "$\\displaystyle 130000$"
      ],
      "text/plain": [
       "130000"
      ]
     },
     "metadata": {},
     "output_type": "display_data"
    }
   ],
   "source": [
    "import numpy as np\n",
    "import sympy as sp\n",
    "\n",
    "x_1, x_2, Q = sp.symbols('x_1 x_2 Q')\n",
    "\n",
    "eq1 = 1000*x_1 + x_2 - 110000\n",
    "eq2 = 1500*x_1 + x_2 - 160000\n",
    "\n",
    "x = sp.solve([eq1, eq2], (x_1, x_2))\n",
    "display(x)\n",
    "\n",
    "eq3 = x[x_1]*Q + x[x_2]\n",
    "display(eq3.subs(Q,1200))"
   ]
  }
 ],
 "metadata": {
  "kernelspec": {
   "display_name": "Python 3",
   "language": "python",
   "name": "python3"
  },
  "language_info": {
   "codemirror_mode": {
    "name": "ipython",
    "version": 3
   },
   "file_extension": ".py",
   "mimetype": "text/x-python",
   "name": "python",
   "nbconvert_exporter": "python",
   "pygments_lexer": "ipython3",
   "version": "3.11.7"
  }
 },
 "nbformat": 4,
 "nbformat_minor": 2
}
