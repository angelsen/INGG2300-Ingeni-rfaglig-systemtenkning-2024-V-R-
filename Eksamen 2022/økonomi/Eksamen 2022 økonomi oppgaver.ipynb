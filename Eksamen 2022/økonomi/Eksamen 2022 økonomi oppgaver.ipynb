{
 "cells": [
  {
   "cell_type": "markdown",
   "metadata": {},
   "source": [
    "## Oppgave 1 \n",
    "\n",
    "En bedrift har lineære kostnader slik at totalkostnadsfunksjonen, $T C(Q)$, er en lineær funksjon av mengden, $Q$. For en mengde på 1000 er totalkostnadene på 110000 kroner og for en mengde på 1500 er totalkostnadene på 160000 kroner.\n",
    "\n",
    "Hva er da marginalkostnadene for mengde på 1200? (Svar i hele kroner.)"
   ]
  },
  {
   "cell_type": "code",
   "execution_count": 7,
   "metadata": {},
   "outputs": [
    {
     "data": {
      "text/plain": [
       "{x_1: 100, x_2: 10000}"
      ]
     },
     "metadata": {},
     "output_type": "display_data"
    },
    {
     "data": {
      "text/latex": [
       "$\\displaystyle 130000$"
      ],
      "text/plain": [
       "130000"
      ]
     },
     "metadata": {},
     "output_type": "display_data"
    }
   ],
   "source": [
    "import numpy as np\n",
    "import sympy as sp\n",
    "\n",
    "x_1, x_2, Q = sp.symbols('x_1 x_2 Q')\n",
    "\n",
    "eq1 = 1000*x_1 + x_2 - 110000\n",
    "eq2 = 1500*x_1 + x_2 - 160000\n",
    "\n",
    "x = sp.solve([eq1, eq2], (x_1, x_2))\n",
    "display(x)\n",
    "\n",
    "eq3 = x[x_1]*Q + x[x_2]\n",
    "display(eq3.subs(Q,1200))"
   ]
  },
  {
   "cell_type": "markdown",
   "metadata": {},
   "source": [
    "## Oppgave 2\n",
    "\n",
    "En bedrift har totalkostnader på 1000 for en mengde på 500. For denne mengden er gjennomsnittskostnadene økende for økende mengde.\n",
    "\n",
    "Hva kan vi da si mest generelt om marginalkostnadene?\n",
    "\n",
    "**a) Marginalkostnadene er større enn 2 for en mengde på 500 .**\n",
    "\n",
    "b) Marginalkostnadene er mindre enn 2 for en mengde på 500 .\n",
    "\n",
    "c) Marginalkostnadene ligger under gjennomsnittskostnadene for alle mengder.\n",
    "\n",
    "d) Marginalkostnadene ligger over gjennomsnittskostnadene for alle mengder."
   ]
  },
  {
   "cell_type": "code",
   "execution_count": 9,
   "metadata": {},
   "outputs": [
    {
     "data": {
      "text/plain": [
       "2.0"
      ]
     },
     "metadata": {},
     "output_type": "display_data"
    }
   ],
   "source": [
    "# TC(500) = 10000\n",
    "\n",
    "# MC = dAC/dQ*Q(Økende) + AC\n",
    "\n",
    "AC = 1000/500\n",
    "display(AC)"
   ]
  },
  {
   "cell_type": "markdown",
   "metadata": {},
   "source": [
    "## Oppgave 3\n",
    "\n",
    "I tabellen under er $Q$ mengden, $A C$ er gjennomsnittskostnaden, $A C^{\\prime}$ er den deriverte av gjennomsnittskostnaden med hensyn på mengde, og $M C$ er marginalkostnaden.\n",
    "\n",
    "Hva må det manglende tallet være? (Svar med et heltall.) [30]\n",
    "\n",
    "| $Q$ | $A C$ | $A C^{\\prime}$ | $M C$ |\n",
    "| :---: | :---: | :---: | :---: |\n",
    "| $?$ | 150 | -1 | 120 |"
   ]
  },
  {
   "cell_type": "code",
   "execution_count": 10,
   "metadata": {},
   "outputs": [
    {
     "name": "stdout",
     "output_type": "stream",
     "text": [
      "30.0\n"
     ]
    }
   ],
   "source": [
    "#  MC = dAC/dQ * Q + AC\n",
    "def eq2(MC=None, dAC_dQ=None, Q=None, AC=None):\n",
    "    # Define a general symbol for substitution\n",
    "    x = sp.symbols('x')\n",
    "    \n",
    "    # Assign each parameter to its value or to x if the value is None\n",
    "    MC_val = MC if MC is not None else x\n",
    "    dAC_dQ_val = dAC_dQ if dAC_dQ is not None else x\n",
    "    Q_val = Q if Q is not None else x\n",
    "    AC_val = AC if AC is not None else x\n",
    "    \n",
    "    # Define the equation using the assigned values\n",
    "    equation = dAC_dQ_val * Q_val + AC_val - MC_val\n",
    "    \n",
    "    return float(sp.solve(equation)[0])\n",
    "\n",
    "\n",
    "Q = eq2(MC=120, dAC_dQ=-1, Q=None, AC=150)\n",
    "print(Q)"
   ]
  },
  {
   "cell_type": "code",
   "execution_count": null,
   "metadata": {},
   "outputs": [],
   "source": []
  }
 ],
 "metadata": {
  "kernelspec": {
   "display_name": "Python 3",
   "language": "python",
   "name": "python3"
  },
  "language_info": {
   "codemirror_mode": {
    "name": "ipython",
    "version": 3
   },
   "file_extension": ".py",
   "mimetype": "text/x-python",
   "name": "python",
   "nbconvert_exporter": "python",
   "pygments_lexer": "ipython3",
   "version": "3.11.7"
  }
 },
 "nbformat": 4,
 "nbformat_minor": 2
}
