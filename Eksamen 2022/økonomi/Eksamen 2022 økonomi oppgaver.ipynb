{
 "cells": [
  {
   "cell_type": "markdown",
   "metadata": {},
   "source": [
    "## Oppgave 1 \n",
    "\n",
    "En bedrift har lineære kostnader slik at totalkostnadsfunksjonen, $T C(Q)$, er en lineær funksjon av mengden, $Q$. For en mengde på 1000 er totalkostnadene på 110000 kroner og for en mengde på 1500 er totalkostnadene på 160000 kroner.\n",
    "\n",
    "Hva er da marginalkostnadene for mengde på 1200? (Svar i hele kroner.)"
   ]
  },
  {
   "cell_type": "code",
   "execution_count": 7,
   "metadata": {},
   "outputs": [
    {
     "data": {
      "text/plain": [
       "{x_1: 100, x_2: 10000}"
      ]
     },
     "metadata": {},
     "output_type": "display_data"
    },
    {
     "data": {
      "text/latex": [
       "$\\displaystyle 130000$"
      ],
      "text/plain": [
       "130000"
      ]
     },
     "metadata": {},
     "output_type": "display_data"
    }
   ],
   "source": [
    "import numpy as np\n",
    "import sympy as sp\n",
    "\n",
    "x_1, x_2, Q = sp.symbols('x_1 x_2 Q')\n",
    "\n",
    "eq1 = 1000*x_1 + x_2 - 110000\n",
    "eq2 = 1500*x_1 + x_2 - 160000\n",
    "\n",
    "x = sp.solve([eq1, eq2], (x_1, x_2))\n",
    "display(x)\n",
    "\n",
    "eq3 = x[x_1]*Q + x[x_2]\n",
    "display(eq3.subs(Q,1200))"
   ]
  },
  {
   "cell_type": "markdown",
   "metadata": {},
   "source": [
    "## Oppgave 2\n",
    "\n",
    "En bedrift har totalkostnader på 1000 for en mengde på 500. For denne mengden er gjennomsnittskostnadene økende for økende mengde.\n",
    "\n",
    "Hva kan vi da si mest generelt om marginalkostnadene?\n",
    "\n",
    "**a) Marginalkostnadene er større enn 2 for en mengde på 500 .**\n",
    "\n",
    "b) Marginalkostnadene er mindre enn 2 for en mengde på 500 .\n",
    "\n",
    "c) Marginalkostnadene ligger under gjennomsnittskostnadene for alle mengder.\n",
    "\n",
    "d) Marginalkostnadene ligger over gjennomsnittskostnadene for alle mengder."
   ]
  },
  {
   "cell_type": "code",
   "execution_count": 9,
   "metadata": {},
   "outputs": [
    {
     "data": {
      "text/plain": [
       "2.0"
      ]
     },
     "metadata": {},
     "output_type": "display_data"
    }
   ],
   "source": [
    "# TC(500) = 10000\n",
    "\n",
    "# MC = dAC/dQ*Q(Økende) + AC\n",
    "\n",
    "AC = 1000/500\n",
    "display(AC)"
   ]
  },
  {
   "cell_type": "markdown",
   "metadata": {},
   "source": [
    "## Oppgave 3\n",
    "\n",
    "I tabellen under er $Q$ mengden, $A C$ er gjennomsnittskostnaden, $A C^{\\prime}$ er den deriverte av gjennomsnittskostnaden med hensyn på mengde, og $M C$ er marginalkostnaden.\n",
    "\n",
    "Hva må det manglende tallet være? (Svar med et heltall.) [30]\n",
    "\n",
    "| $Q$ | $A C$ | $A C^{\\prime}$ | $M C$ |\n",
    "| :---: | :---: | :---: | :---: |\n",
    "| $?$ | 150 | -1 | 120 |"
   ]
  },
  {
   "cell_type": "code",
   "execution_count": 10,
   "metadata": {},
   "outputs": [
    {
     "name": "stdout",
     "output_type": "stream",
     "text": [
      "30.0\n"
     ]
    }
   ],
   "source": [
    "#  MC = dAC/dQ * Q + AC\n",
    "def eq2(MC=None, dAC_dQ=None, Q=None, AC=None):\n",
    "    # Define a general symbol for substitution\n",
    "    x = sp.symbols('x')\n",
    "    \n",
    "    # Assign each parameter to its value or to x if the value is None\n",
    "    MC_val = MC if MC is not None else x\n",
    "    dAC_dQ_val = dAC_dQ if dAC_dQ is not None else x\n",
    "    Q_val = Q if Q is not None else x\n",
    "    AC_val = AC if AC is not None else x\n",
    "    \n",
    "    # Define the equation using the assigned values\n",
    "    equation = dAC_dQ_val * Q_val + AC_val - MC_val\n",
    "    \n",
    "    return float(sp.solve(equation)[0])\n",
    "\n",
    "\n",
    "Q = eq2(MC=120, dAC_dQ=-1, Q=None, AC=150)\n",
    "print(Q)"
   ]
  },
  {
   "cell_type": "markdown",
   "metadata": {},
   "source": [
    "## Oppgave 4\n",
    "\n",
    "Selskapet \"Gott \\& Blandet\" har tre produkter i sortimentet Lakris (L), Sjokolade (S) og Karameller (K). Salgsvolum (stykk), pris og direkte kostnader per stykk (kr/stykk) det siste året for de tre produktene er gitt i tabellen\n",
    "\n",
    "| Produkt | L | S | K |\n",
    "| :--- | :---: | :---: | :---: |\n",
    "| Salgsvolum (stykk) | 4000 | 4000 | 4000 |\n",
    "| Salgspris (kr/stykk) | 10000 | 10000 | 11000 |\n",
    "| Direkte material (kr/stykk) | 1600 | 1800 | 2200 |\n",
    "| Direkte lønn (kr/stykk) | 1700 | 1700 | 1800 |\n",
    "| Øvrige direkte tilvirknings- <br> kostnader (kr/stykk) | 200 | 400 | 300 |\n",
    "| Salgsprovisjon (kr/stykk) | 1000 | 1000 | 1100 |\n",
    "\n",
    "Tilleggssatser basert på fjorårets indirekte kostnader\n",
    "\n",
    "- Indirekte faste kostnader materialavd. $\\left(\\mathrm{MO}_{\\mathrm{F}}\\right)$ : $23 \\%$\n",
    "- Indirekte faste kostnader produksjonsavd. $\\left(\\mathrm{TO}_{\\mathrm{F}}\\right) \\quad: 152 \\%$\n",
    "- Indirekte variable kostnader produksjonsavd. (TOV) : $21 \\%$\n",
    "- Indirekte faste salgs- og adm. kostnader. $\\left(\\mathrm{AFFO}_{\\mathrm{F}}\\right) \\quad: \\quad 18 \\%$\n",
    "\n",
    "Hva er selvkostnaden for produkt Lakris? (Svar i hele kroner.)"
   ]
  },
  {
   "cell_type": "code",
   "execution_count": 13,
   "metadata": {},
   "outputs": [
    {
     "name": "stdout",
     "output_type": "stream",
     "text": [
      "9035\n"
     ]
    }
   ],
   "source": [
    "Salgsvolum_stykk                                = np.array([4000, 4000, 4000,]) \n",
    "Salgspris_krStykk                               = np.array([10000, 10000, 11000,]) \n",
    "Direkte_material_krStykk                        = np.array([1600, 1800, 2200,]) \n",
    "Direkte_lønn_krStykk                            = np.array([1700, 1700, 1800,]) \n",
    "Øvrige_direkte_tilvirkningskostnader_krStykk    = np.array([200, 400, 300,]) \n",
    "Salgsprovisjon_krStykk                          = np.array([1000, 1000, 1100,])\n",
    "\n",
    "MO_F = Direkte_material_krStykk * 0.23\n",
    "TO_F = Direkte_lønn_krStykk * 1.52\n",
    "TO_V = Direkte_lønn_krStykk * 0.21\n",
    "\n",
    "tilvirkningskostander = np.vstack((\n",
    "    Direkte_material_krStykk,\n",
    "    MO_F,\n",
    "\n",
    "    Direkte_lønn_krStykk,\n",
    "    TO_F,\n",
    "    TO_V,\n",
    "\n",
    "    Øvrige_direkte_tilvirkningskostnader_krStykk\n",
    "))\n",
    "\n",
    "tilvirkningskostanderSum = np.sum(tilvirkningskostander, axis=0)\n",
    "\n",
    "AFFO_F = tilvirkningskostanderSum * 0.18\n",
    "\n",
    "selvkostnaden = np.vstack((\n",
    "    tilvirkningskostanderSum,\n",
    "\n",
    "    Salgsprovisjon_krStykk,\n",
    "    AFFO_F\n",
    "))\n",
    "\n",
    "selvkostnadenSum = np.sum(selvkostnaden, axis=0)\n",
    "print(f\"{selvkostnadenSum[0]:.0f}\")"
   ]
  },
  {
   "cell_type": "markdown",
   "metadata": {},
   "source": [
    "## Oppgave 5\n",
    "\n",
    "Hvis etterspørselen til en bedrift kan uttrykkes som $P=1000-1.5 Q^{1.5}$, der $Q$ er mengden og $P$ er prisen i kroner, hvilken pris gir da maksimal inntekt? (Svar i hele kroner.)\n",
    "\n",
    "---\n",
    "\n",
    "To find the price that maximizes revenue for the given demand function $ P = 1000 - 1.5Q^{1.5} $:\n",
    "\n",
    "1. **Calculate Total Revenue (TR):** Use $ TR = P \\times Q $ but substitute $ P $ from the demand equation to make $ TR $ a function of $ Q $:  \n",
    "   $ TR(Q) = (1000 - 1.5Q^{1.5}) \\times Q $.\n",
    "\n",
    "2. **Derive Marginal Revenue (MR):** Find $ \\frac{d(TR)}{dQ} $ and set this derivative equal to zero to find the quantity $ Q $ that maximizes revenue.\n",
    "\n",
    "3. **Find Optimal Price (P):** Substitute the quantity that maximizes revenue ($ Q_{max} $) back into the demand function to find the corresponding price $ P_{max} = 1000 - 1.5Q_{max}^{1.5} $."
   ]
  },
  {
   "cell_type": "code",
   "execution_count": 31,
   "metadata": {},
   "outputs": [
    {
     "data": {
      "text/latex": [
       "$\\displaystyle 600.0$"
      ],
      "text/plain": [
       "600.000000000000"
      ]
     },
     "metadata": {},
     "output_type": "display_data"
    }
   ],
   "source": [
    "Q = sp.symbols('Q')\n",
    "\n",
    "P = 1000 - 1.5*Q**1.5\n",
    "TR = P*Q\n",
    "MR = TR.diff(Q)\n",
    "\n",
    "Q_max = sp.solve(MR)\n",
    "\n",
    "display(P.subs(Q, Q_max[0]))"
   ]
  },
  {
   "cell_type": "markdown",
   "metadata": {},
   "source": [
    "## Oppgave 6\n",
    "\n",
    "Gå ut ifra definisjonen av egenpriselastisitet som gir ikke-negative tall for normal etterspørsel. Et monopol som maksimerer profitt tilpasser seg slik at egenpriselastisiteten blir 2 og prisen blir 200 kroner.\n",
    "\n",
    "Hva må da marginalkostnadene til monopolet være? (Svar i hele kroner)\n",
    "\n",
    "---\n",
    "\n",
    "1. Use the formula for marginal revenue (MR) related to price elasticity: $ MR = P(1 - \\frac{1}{E_p}) $.\n",
    "\n",
    "2. Plug in $ E_p = 2 $ and $ P = 200 $ kroner to find MR.\n",
    "\n",
    "3. Since a profit-maximizing monopolist sets $ MC = MR $, the marginal cost will be equal to the MR calculated."
   ]
  },
  {
   "cell_type": "code",
   "execution_count": 34,
   "metadata": {},
   "outputs": [
    {
     "data": {
      "text/plain": [
       "100.0"
      ]
     },
     "metadata": {},
     "output_type": "display_data"
    }
   ],
   "source": [
    "P = 200\n",
    "E_p = 2\n",
    "\n",
    "MR = P*(1-1/2)\n",
    "\n",
    "# Progitmaksimering i et monopol\n",
    "# MC = MR\n",
    "display(MR)"
   ]
  },
  {
   "cell_type": "markdown",
   "metadata": {},
   "source": [
    "## Oppgave 7\n",
    "\n",
    "Et investeringsprosjekt gir en kontantstrøm på 1000 i periode 2 til og med periode 10 etter investeringen.\n",
    "\n",
    "Dersom avkastningskravet er $12 \\%$, hva er netto nåverdi av disse kontantstrømmene? (Svar med et heltall)"
   ]
  },
  {
   "cell_type": "code",
   "execution_count": 36,
   "metadata": {},
   "outputs": [
    {
     "name": "stdout",
     "output_type": "stream",
     "text": [
      "4757\n"
     ]
    }
   ],
   "source": [
    "C = 1000\n",
    "r = 0.12\n",
    "n = 10\n",
    "invest = 0\n",
    "\n",
    "PV = C * (1 - (1 + r)**(-(n)))/r\n",
    "NNV_y1 = (C/(1+r)**1)\n",
    "NNV = PV - NNV_y1 - invest\n",
    "\n",
    "print(f\"{NNV:.0f}\")"
   ]
  },
  {
   "cell_type": "markdown",
   "metadata": {},
   "source": [
    "## Oppgave 8\n",
    "\n",
    "Hva er internrenten for en investering der du skal betale 2000 for en forventet kontantstrøm på 600 om ett år og 1500 om to år?\n",
    "\n",
    "(Svar med desimaltall fra 0 til 1, tre desimaler er nok, f.eks. om internrenten er 9,2456...\\% så skal du svare 0,092 .)"
   ]
  },
  {
   "cell_type": "code",
   "execution_count": 39,
   "metadata": {},
   "outputs": [
    {
     "name": "stdout",
     "output_type": "stream",
     "text": [
      "0.0289197915623473\n",
      "-1.72891979156235\n",
      "0.029\n"
     ]
    }
   ],
   "source": [
    "irr = sp.symbols('irr')\n",
    "\n",
    "eq8 = 600/(1+irr) + 1500/(1+irr)**2 - 2000\n",
    "\n",
    "IRR = sp.solve(eq8)\n",
    "\n",
    "for irr in IRR:\n",
    "    print(irr.evalf())\n",
    "\n",
    "print(f\"{IRR[0]:.3f}\")"
   ]
  },
  {
   "cell_type": "markdown",
   "metadata": {},
   "source": [
    "## Oppgave 9\n",
    "\n",
    "Prisen på produktet Alfa er nå 100 og den forventes å vokse nominelt med 4\\%, som er mer enn inflasjonen som er $2 \\%$. Realrenten er $10 \\%$.\n",
    "\n",
    "Hva er nåverdien av å selge en Alfa ved slutten av år 1? (Svar med desimaltall, én desimal er nok.)\n",
    "\n",
    "---\n",
    "\n",
    "1. **Future Price of Alfa**: Calculate using the initial price and nominal growth rate:\n",
    "   $ FV = 100 \\times (1 + 0.04) $.\n",
    "\n",
    "2. **Present Value (PV)**: Use the real interest rate to discount the future price back to present value:\n",
    "   $ PV = \\frac{FV}{1 + 0.10} $.\n",
    "\n",
    "Calculate these steps to find the now-value of selling Alfa at the end of year 1, and round your answer to one decimal place."
   ]
  },
  {
   "cell_type": "code",
   "execution_count": 41,
   "metadata": {},
   "outputs": [
    {
     "name": "stdout",
     "output_type": "stream",
     "text": [
      "94.5\n"
     ]
    }
   ],
   "source": [
    "FV = 100 * (1 + 0.04)   # FutureValue\n",
    "r = 0.1\n",
    "\n",
    "nnv = FV/(1+r)**1\n",
    "print(f\"{nnv:.1f}\")"
   ]
  },
  {
   "cell_type": "markdown",
   "metadata": {},
   "source": [
    "## Oppgave 10\n",
    "\n",
    "Kontantstrømmene for fire investeringer med økonomisk levetid på henholdsvis 4, 5, 5 og 6 år er som følger:\n",
    "\n",
    "|  | A | B | C | D |\n",
    "| :--- | ---: | ---: | ---: | ---: |\n",
    "| $k_{0}$ | -1000 | -1000 | -1000 | -1000 |\n",
    "| $k_{1}$ | 320 | 280 | 250 | 260 |\n",
    "| $k_{2}$ | 320 | 280 | 250 | 260 |\n",
    "| $k_{3}$ | 320 | 280 | 320 | 260 |\n",
    "| $k_{4}$ | 520 | 280 | 320 | 260 |\n",
    "| $k_{5}$ |  | 480 | 480 | 260 |\n",
    "| $k_{6}$ |  |  |  | 400 |\n",
    "\n",
    "Kalkulasjonsrenten for alle investeringene er $12 \\%$.\n",
    "\n",
    "Hvilken av de fire investeringene er best økonomisk om det er forutsatt at man kan gjenta investeringene, dvs. hvis man velger A vil man gjøre den investeringen på tidspunkt $0,4,8$, ... og hvis man velger B vil man foreta den investeringen på tidspunkt $0,5, \\ldots$ osv.?\n",
    "\n",
    "---\n",
    "\n",
    "$$\\text{NPV of a cash flow at time } t: \\quad NNV_t = \\frac{\\text{Cash Flow at time } t}{(1+r)^t}$$\n",
    "\n",
    "$$ S = \\frac{a}{1 - r}$$"
   ]
  },
  {
   "cell_type": "code",
   "execution_count": 63,
   "metadata": {},
   "outputs": [
    {
     "name": "stdout",
     "output_type": "stream",
     "text": [
      "228.99111493841954\n",
      "248.94701119659487\n",
      "255.4135772355756\n",
      "255.44428127987942 <--\n"
     ]
    }
   ],
   "source": [
    "r = 0.12\n",
    "\n",
    "A = [-1000, 320, 320, 320, 520]\n",
    "B = [-1000, 280, 280, 280, 280, 480]\n",
    "C = [-1000, 250, 250, 320, 320, 480]\n",
    "D = [-1000, 260, 260, 260, 260, 260, 400]\n",
    "\n",
    "def NNV(n, KS):\n",
    "    return KS / (1 + r)**n\n",
    "\n",
    "def calcNNV(list):\n",
    "    total = 0\n",
    "    for n, KS in enumerate(list):\n",
    "        total += NNV(n, KS)\n",
    "    return total\n",
    "\n",
    "investeringer_periode = [A, B, C, D]\n",
    "\n",
    "nnvs = [calcNNV(investering) for investering in investeringer_periode]\n",
    "\n",
    "investeringer = [calcNNV(investering) / (1 - NNV(len(investering), 1)) for investering in investeringer_periode]\n",
    "\n",
    "for entry in investeringer:\n",
    "    if entry == max(investeringer):\n",
    "        print(f\"{entry} <--\")\n",
    "    else:\n",
    "        print(entry)"
   ]
  }
 ],
 "metadata": {
  "kernelspec": {
   "display_name": "Python 3",
   "language": "python",
   "name": "python3"
  },
  "language_info": {
   "codemirror_mode": {
    "name": "ipython",
    "version": 3
   },
   "file_extension": ".py",
   "mimetype": "text/x-python",
   "name": "python",
   "nbconvert_exporter": "python",
   "pygments_lexer": "ipython3",
   "version": "3.11.7"
  }
 },
 "nbformat": 4,
 "nbformat_minor": 2
}
